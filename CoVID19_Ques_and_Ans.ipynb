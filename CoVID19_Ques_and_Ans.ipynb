{
 "cells": [
  {
   "cell_type": "markdown",
   "metadata": {},
   "source": [
    "https://www.kaggle.com/vtechcoder/clustering-and-paper-search-textmining-for-covid19"
   ]
  },
  {
   "cell_type": "code",
   "execution_count": 1,
   "metadata": {},
   "outputs": [],
   "source": [
    "import numpy as np # linear algebra\n",
    "import pandas as pd # data processing, CSV file I/O (e.g. pd.read_csv)"
   ]
  },
  {
   "cell_type": "code",
   "execution_count": 2,
   "metadata": {},
   "outputs": [],
   "source": [
    "#!pip install wordcloud\n",
    "#!pip install fastai"
   ]
  },
  {
   "cell_type": "code",
   "execution_count": 3,
   "metadata": {},
   "outputs": [],
   "source": [
    "import matplotlib.pyplot as plt\n",
    "from wordcloud import WordCloud\n",
    "import pandas as pd\n",
    "from fastai import *\n",
    "from fastai.text import *\n",
    "#IPython.display.Image._ACCEPTABLE_EMBEDDINGS"
   ]
  },
  {
   "cell_type": "code",
   "execution_count": 4,
   "metadata": {},
   "outputs": [],
   "source": [
    "def gen_freq(text):\n",
    "    word_list=[]\n",
    "    #loop over all thetext\n",
    "    for tw_words in text.split():\n",
    "        word_list.extend(tw_words)\n",
    "    #creating frequency using word list\n",
    "    word_freq=pd.Series(word_list).value_counts()\n",
    "    #print top 25 Words\n",
    "    word_freq[:25]\n",
    "    \n",
    "    return word_freq"
   ]
  },
  {
   "cell_type": "code",
   "execution_count": 5,
   "metadata": {},
   "outputs": [
    {
     "data": {
      "text/html": [
       "<div>\n",
       "<style scoped>\n",
       "    .dataframe tbody tr th:only-of-type {\n",
       "        vertical-align: middle;\n",
       "    }\n",
       "\n",
       "    .dataframe tbody tr th {\n",
       "        vertical-align: top;\n",
       "    }\n",
       "\n",
       "    .dataframe thead th {\n",
       "        text-align: right;\n",
       "    }\n",
       "</style>\n",
       "<table border=\"1\" class=\"dataframe\">\n",
       "  <thead>\n",
       "    <tr style=\"text-align: right;\">\n",
       "      <th></th>\n",
       "      <th>cord_uid</th>\n",
       "      <th>sha</th>\n",
       "      <th>pmcid</th>\n",
       "      <th>title</th>\n",
       "      <th>abstract</th>\n",
       "      <th>publish_time</th>\n",
       "      <th>url</th>\n",
       "      <th>paper_id</th>\n",
       "      <th>text_body</th>\n",
       "      <th>count_abstract</th>\n",
       "      <th>count_text</th>\n",
       "    </tr>\n",
       "  </thead>\n",
       "  <tbody>\n",
       "    <tr>\n",
       "      <th>0</th>\n",
       "      <td>mjkzf2ka</td>\n",
       "      <td>549ecd5271e2f5d8e14450001ff82f7c6a0f084d; 98ce...</td>\n",
       "      <td>PMC7020022</td>\n",
       "      <td>Population and VariantBased Genome Analyses of...</td>\n",
       "      <td>Rabies in wildlife has been successfully contr...</td>\n",
       "      <td>2020-01-17</td>\n",
       "      <td>https://www.ncbi.nlm.nih.gov/pmc/articles/PMC7...</td>\n",
       "      <td>PMC7020022</td>\n",
       "      <td>vaccination programs are one of the most effec...</td>\n",
       "      <td>186</td>\n",
       "      <td>2741</td>\n",
       "    </tr>\n",
       "    <tr>\n",
       "      <th>2</th>\n",
       "      <td>n8vvqb20</td>\n",
       "      <td>3d8c32ca85f775492b317e5afc664200019e0cc4; d076...</td>\n",
       "      <td>PMC7118348</td>\n",
       "      <td>Estimating the infection and case fatality rat...</td>\n",
       "      <td>Adjusting for delay from confirmation to death...</td>\n",
       "      <td>2020-03-26</td>\n",
       "      <td>https://www.ncbi.nlm.nih.gov/pmc/articles/PMC7...</td>\n",
       "      <td>PMC7118348</td>\n",
       "      <td>on 1 february 2020 a patient tested positive f...</td>\n",
       "      <td>71</td>\n",
       "      <td>1465</td>\n",
       "    </tr>\n",
       "    <tr>\n",
       "      <th>3</th>\n",
       "      <td>ghfrwccu</td>\n",
       "      <td>4b983de85478a07cfe894da64057fbd13c1826c2; 645b...</td>\n",
       "      <td>PMC7069465</td>\n",
       "      <td>Transplantation of ACE2 Mesenchymal Stem Cells...</td>\n",
       "      <td>A coronavirus HCoV19 has caused the novel coro...</td>\n",
       "      <td>2020-03-09</td>\n",
       "      <td>https://www.ncbi.nlm.nih.gov/pmc/articles/PMC7...</td>\n",
       "      <td>PMC7069465</td>\n",
       "      <td>a pilot trial of intravenous msc transplantati...</td>\n",
       "      <td>264</td>\n",
       "      <td>2037</td>\n",
       "    </tr>\n",
       "  </tbody>\n",
       "</table>\n",
       "</div>"
      ],
      "text/plain": [
       "   cord_uid                                                sha       pmcid  \\\n",
       "0  mjkzf2ka  549ecd5271e2f5d8e14450001ff82f7c6a0f084d; 98ce...  PMC7020022   \n",
       "2  n8vvqb20  3d8c32ca85f775492b317e5afc664200019e0cc4; d076...  PMC7118348   \n",
       "3  ghfrwccu  4b983de85478a07cfe894da64057fbd13c1826c2; 645b...  PMC7069465   \n",
       "\n",
       "                                               title  \\\n",
       "0  Population and VariantBased Genome Analyses of...   \n",
       "2  Estimating the infection and case fatality rat...   \n",
       "3  Transplantation of ACE2 Mesenchymal Stem Cells...   \n",
       "\n",
       "                                            abstract publish_time  \\\n",
       "0  Rabies in wildlife has been successfully contr...   2020-01-17   \n",
       "2  Adjusting for delay from confirmation to death...   2020-03-26   \n",
       "3  A coronavirus HCoV19 has caused the novel coro...   2020-03-09   \n",
       "\n",
       "                                                 url    paper_id  \\\n",
       "0  https://www.ncbi.nlm.nih.gov/pmc/articles/PMC7...  PMC7020022   \n",
       "2  https://www.ncbi.nlm.nih.gov/pmc/articles/PMC7...  PMC7118348   \n",
       "3  https://www.ncbi.nlm.nih.gov/pmc/articles/PMC7...  PMC7069465   \n",
       "\n",
       "                                           text_body  count_abstract  \\\n",
       "0  vaccination programs are one of the most effec...             186   \n",
       "2  on 1 february 2020 a patient tested positive f...              71   \n",
       "3  a pilot trial of intravenous msc transplantati...             264   \n",
       "\n",
       "   count_text  \n",
       "0        2741  \n",
       "2        1465  \n",
       "3        2037  "
      ]
     },
     "execution_count": 5,
     "metadata": {},
     "output_type": "execute_result"
    }
   ],
   "source": [
    "df=pd.read_csv(\"/Users/patsnap/Desktop/Neo4J_and_other_codes/Coronavirus_19/corona.csv\").dropna()\n",
    "df.head(3)"
   ]
  },
  {
   "cell_type": "code",
   "execution_count": 6,
   "metadata": {},
   "outputs": [
    {
     "data": {
      "text/plain": [
       "Index(['cord_uid', 'sha', 'pmcid', 'title', 'abstract', 'publish_time', 'url',\n",
       "       'paper_id', 'text_body', 'count_abstract', 'count_text'],\n",
       "      dtype='object')"
      ]
     },
     "execution_count": 6,
     "metadata": {},
     "output_type": "execute_result"
    }
   ],
   "source": [
    "df.columns"
   ]
  },
  {
   "cell_type": "code",
   "execution_count": 7,
   "metadata": {},
   "outputs": [
    {
     "data": {
      "text/html": [
       "<div>\n",
       "<style scoped>\n",
       "    .dataframe tbody tr th:only-of-type {\n",
       "        vertical-align: middle;\n",
       "    }\n",
       "\n",
       "    .dataframe tbody tr th {\n",
       "        vertical-align: top;\n",
       "    }\n",
       "\n",
       "    .dataframe thead th {\n",
       "        text-align: right;\n",
       "    }\n",
       "</style>\n",
       "<table border=\"1\" class=\"dataframe\">\n",
       "  <thead>\n",
       "    <tr style=\"text-align: right;\">\n",
       "      <th></th>\n",
       "      <th>paper_id</th>\n",
       "      <th>text_body</th>\n",
       "    </tr>\n",
       "  </thead>\n",
       "  <tbody>\n",
       "    <tr>\n",
       "      <th>0</th>\n",
       "      <td>PMC7020022</td>\n",
       "      <td>vaccination programs are one of the most effec...</td>\n",
       "    </tr>\n",
       "    <tr>\n",
       "      <th>2</th>\n",
       "      <td>PMC7118348</td>\n",
       "      <td>on 1 february 2020 a patient tested positive f...</td>\n",
       "    </tr>\n",
       "    <tr>\n",
       "      <th>3</th>\n",
       "      <td>PMC7069465</td>\n",
       "      <td>a pilot trial of intravenous msc transplantati...</td>\n",
       "    </tr>\n",
       "    <tr>\n",
       "      <th>7</th>\n",
       "      <td>PMC7107203</td>\n",
       "      <td>in december 2019 several patients with pneumon...</td>\n",
       "    </tr>\n",
       "    <tr>\n",
       "      <th>8</th>\n",
       "      <td>PMC7107051</td>\n",
       "      <td>the newly discovered novel coronavirus 2019nco...</td>\n",
       "    </tr>\n",
       "  </tbody>\n",
       "</table>\n",
       "</div>"
      ],
      "text/plain": [
       "     paper_id                                          text_body\n",
       "0  PMC7020022  vaccination programs are one of the most effec...\n",
       "2  PMC7118348  on 1 february 2020 a patient tested positive f...\n",
       "3  PMC7069465  a pilot trial of intravenous msc transplantati...\n",
       "7  PMC7107203  in december 2019 several patients with pneumon...\n",
       "8  PMC7107051  the newly discovered novel coronavirus 2019nco..."
      ]
     },
     "execution_count": 7,
     "metadata": {},
     "output_type": "execute_result"
    }
   ],
   "source": [
    "df=df.drop(['cord_uid', 'sha', 'pmcid', 'title', 'abstract', 'publish_time', 'url', 'count_abstract', 'count_text'], axis=1)\n",
    "df.head()"
   ]
  },
  {
   "cell_type": "code",
   "execution_count": 8,
   "metadata": {},
   "outputs": [
    {
     "data": {
      "text/plain": [
       "paper_id     0\n",
       "text_body    0\n",
       "dtype: int64"
      ]
     },
     "execution_count": 8,
     "metadata": {},
     "output_type": "execute_result"
    }
   ],
   "source": [
    "df.isnull().sum()"
   ]
  },
  {
   "cell_type": "code",
   "execution_count": 9,
   "metadata": {},
   "outputs": [],
   "source": [
    "from nltk.tokenize import word_tokenize\n",
    "def identify_tokens(row):\n",
    "    #text = row['body_text']\n",
    "    tokens = word_tokenize(row)\n",
    "    # taken only words (not punctuation)\n",
    "    token_words = [w for w in tokens if w.isalpha()]\n",
    "    return token_words\n",
    "\n",
    "df['text_body'] = df['text_body'].apply(identify_tokens)"
   ]
  },
  {
   "cell_type": "code",
   "execution_count": 10,
   "metadata": {},
   "outputs": [
    {
     "data": {
      "text/html": [
       "<div>\n",
       "<style scoped>\n",
       "    .dataframe tbody tr th:only-of-type {\n",
       "        vertical-align: middle;\n",
       "    }\n",
       "\n",
       "    .dataframe tbody tr th {\n",
       "        vertical-align: top;\n",
       "    }\n",
       "\n",
       "    .dataframe thead th {\n",
       "        text-align: right;\n",
       "    }\n",
       "</style>\n",
       "<table border=\"1\" class=\"dataframe\">\n",
       "  <thead>\n",
       "    <tr style=\"text-align: right;\">\n",
       "      <th></th>\n",
       "      <th>paper_id</th>\n",
       "      <th>text_body</th>\n",
       "    </tr>\n",
       "  </thead>\n",
       "  <tbody>\n",
       "    <tr>\n",
       "      <th>0</th>\n",
       "      <td>PMC7020022</td>\n",
       "      <td>[vaccination, programs, are, one, of, the, mos...</td>\n",
       "    </tr>\n",
       "    <tr>\n",
       "      <th>2</th>\n",
       "      <td>PMC7118348</td>\n",
       "      <td>[on, february, a, patient, tested, positive, f...</td>\n",
       "    </tr>\n",
       "    <tr>\n",
       "      <th>3</th>\n",
       "      <td>PMC7069465</td>\n",
       "      <td>[a, pilot, trial, of, intravenous, msc, transp...</td>\n",
       "    </tr>\n",
       "    <tr>\n",
       "      <th>7</th>\n",
       "      <td>PMC7107203</td>\n",
       "      <td>[in, december, several, patients, with, pneumo...</td>\n",
       "    </tr>\n",
       "    <tr>\n",
       "      <th>8</th>\n",
       "      <td>PMC7107051</td>\n",
       "      <td>[the, newly, discovered, novel, coronavirus, w...</td>\n",
       "    </tr>\n",
       "  </tbody>\n",
       "</table>\n",
       "</div>"
      ],
      "text/plain": [
       "     paper_id                                          text_body\n",
       "0  PMC7020022  [vaccination, programs, are, one, of, the, mos...\n",
       "2  PMC7118348  [on, february, a, patient, tested, positive, f...\n",
       "3  PMC7069465  [a, pilot, trial, of, intravenous, msc, transp...\n",
       "7  PMC7107203  [in, december, several, patients, with, pneumo...\n",
       "8  PMC7107051  [the, newly, discovered, novel, coronavirus, w..."
      ]
     },
     "execution_count": 10,
     "metadata": {},
     "output_type": "execute_result"
    }
   ],
   "source": [
    "df.head()"
   ]
  },
  {
   "cell_type": "code",
   "execution_count": 11,
   "metadata": {},
   "outputs": [],
   "source": [
    "#removing the stop words\n",
    "from sklearn.feature_extraction.text import CountVectorizer\n",
    "from nltk.corpus import stopwords\n",
    "stops =  set(stopwords.words('english')+['com'])"
   ]
  },
  {
   "cell_type": "code",
   "execution_count": 12,
   "metadata": {},
   "outputs": [],
   "source": [
    "from tqdm import tqdm\n",
    "#converting all text_body in o=lower case for our eas\n",
    "def lower_case(input_str):\n",
    "    if type(input_str)=='float':\n",
    "        return input_str\n",
    "    else:\n",
    "        wordslist=[]\n",
    "        for word in input_str:\n",
    "            worD = word.lower()\n",
    "            wordslist.append(worD)\n",
    "        return wordslist\n",
    "df['text_body'] = df['text_body'].apply(lambda x: lower_case(x))"
   ]
  },
  {
   "cell_type": "code",
   "execution_count": 13,
   "metadata": {},
   "outputs": [
    {
     "data": {
      "text/html": [
       "<div>\n",
       "<style scoped>\n",
       "    .dataframe tbody tr th:only-of-type {\n",
       "        vertical-align: middle;\n",
       "    }\n",
       "\n",
       "    .dataframe tbody tr th {\n",
       "        vertical-align: top;\n",
       "    }\n",
       "\n",
       "    .dataframe thead th {\n",
       "        text-align: right;\n",
       "    }\n",
       "</style>\n",
       "<table border=\"1\" class=\"dataframe\">\n",
       "  <thead>\n",
       "    <tr style=\"text-align: right;\">\n",
       "      <th></th>\n",
       "      <th>paper_id</th>\n",
       "      <th>text_body</th>\n",
       "    </tr>\n",
       "  </thead>\n",
       "  <tbody>\n",
       "    <tr>\n",
       "      <th>0</th>\n",
       "      <td>PMC7020022</td>\n",
       "      <td>[vaccination, programs, are, one, of, the, mos...</td>\n",
       "    </tr>\n",
       "    <tr>\n",
       "      <th>2</th>\n",
       "      <td>PMC7118348</td>\n",
       "      <td>[on, february, a, patient, tested, positive, f...</td>\n",
       "    </tr>\n",
       "    <tr>\n",
       "      <th>3</th>\n",
       "      <td>PMC7069465</td>\n",
       "      <td>[a, pilot, trial, of, intravenous, msc, transp...</td>\n",
       "    </tr>\n",
       "  </tbody>\n",
       "</table>\n",
       "</div>"
      ],
      "text/plain": [
       "     paper_id                                          text_body\n",
       "0  PMC7020022  [vaccination, programs, are, one, of, the, mos...\n",
       "2  PMC7118348  [on, february, a, patient, tested, positive, f...\n",
       "3  PMC7069465  [a, pilot, trial, of, intravenous, msc, transp..."
      ]
     },
     "execution_count": 13,
     "metadata": {},
     "output_type": "execute_result"
    }
   ],
   "source": [
    "df.head(3)"
   ]
  },
  {
   "cell_type": "code",
   "execution_count": 14,
   "metadata": {},
   "outputs": [
    {
     "data": {
      "text/plain": [
       "True"
      ]
     },
     "execution_count": 14,
     "metadata": {},
     "output_type": "execute_result"
    }
   ],
   "source": [
    "\"for\" in stopwords.words(\"english\")"
   ]
  },
  {
   "cell_type": "code",
   "execution_count": 15,
   "metadata": {},
   "outputs": [],
   "source": [
    "def clean_words(w):\n",
    "    if w not in stopwords.words(\"english\"):\n",
    "        return w\n",
    "    else:\n",
    "        pass"
   ]
  },
  {
   "cell_type": "code",
   "execution_count": 16,
   "metadata": {},
   "outputs": [],
   "source": [
    "words= df['text_body'].apply(lambda word:[item for item in word if item not in stopwords.words(\"english\")])"
   ]
  },
  {
   "cell_type": "code",
   "execution_count": 17,
   "metadata": {},
   "outputs": [],
   "source": [
    "word_list=[]\n",
    "    #loop over all thetext\n",
    "for tw_words in words:\n",
    "        word_list.extend(tw_words)\n",
    "word_freq=pd.Series(word_list).value_counts()\n",
    "    #print top 25 Words\n",
    "ww=word_freq[:25]"
   ]
  },
  {
   "cell_type": "code",
   "execution_count": 18,
   "metadata": {},
   "outputs": [
    {
     "data": {
      "image/png": "[encoded data removed]",
      "text/plain": [
       "<Figure size 936x648 with 1 Axes>"
      ]
     },
     "metadata": {
      "needs_background": "light"
     },
     "output_type": "display_data"
    }
   ],
   "source": [
    "#generate word cloud\n",
    "wc=WordCloud(width=400,height=330,background_color=\"white\").generate_from_frequencies(ww)\n",
    "plt.figure(figsize=(13,9))\n",
    "plt.imshow(wc, interpolation='bilinear')\n",
    "plt.axis('off')\n",
    "plt.show()"
   ]
  },
  {
   "cell_type": "code",
   "execution_count": 19,
   "metadata": {},
   "outputs": [],
   "source": [
    "import gensim\n",
    "# following 4 cells from https://www.kaggle.com/luisblanche/cord-19-use-doc2vec-to-match-articles-to-tasks notebook by Luis\n",
    "def read_corpus(df, column, tokens_only=False):\n",
    "    \"\"\"\n",
    "    Arguments\n",
    "    ---------\n",
    "        df: pd.DataFrame\n",
    "        column: str \n",
    "            text column name\n",
    "        tokens_only: bool\n",
    "            wether to add tags or not\n",
    "    \"\"\"\n",
    "    for i, line in enumerate(df[column]):\n",
    "\n",
    "        tokens = gensim.parsing.preprocess_string(line)\n",
    "        if tokens_only:\n",
    "            yield tokens\n",
    "        else:\n",
    "            # For training data, add tags\n",
    "            yield gensim.models.doc2vec.TaggedDocument(tokens, [i])"
   ]
  },
  {
   "cell_type": "code",
   "execution_count": 20,
   "metadata": {},
   "outputs": [
    {
     "data": {
      "text/html": [
       "<div>\n",
       "<style scoped>\n",
       "    .dataframe tbody tr th:only-of-type {\n",
       "        vertical-align: middle;\n",
       "    }\n",
       "\n",
       "    .dataframe tbody tr th {\n",
       "        vertical-align: top;\n",
       "    }\n",
       "\n",
       "    .dataframe thead th {\n",
       "        text-align: right;\n",
       "    }\n",
       "</style>\n",
       "<table border=\"1\" class=\"dataframe\">\n",
       "  <thead>\n",
       "    <tr style=\"text-align: right;\">\n",
       "      <th></th>\n",
       "      <th>cord_uid</th>\n",
       "      <th>sha</th>\n",
       "      <th>pmcid</th>\n",
       "      <th>title</th>\n",
       "      <th>abstract</th>\n",
       "      <th>publish_time</th>\n",
       "      <th>url</th>\n",
       "      <th>paper_id</th>\n",
       "      <th>text_body</th>\n",
       "      <th>count_abstract</th>\n",
       "      <th>count_text</th>\n",
       "    </tr>\n",
       "  </thead>\n",
       "  <tbody>\n",
       "    <tr>\n",
       "      <th>0</th>\n",
       "      <td>mjkzf2ka</td>\n",
       "      <td>549ecd5271e2f5d8e14450001ff82f7c6a0f084d; 98ce...</td>\n",
       "      <td>PMC7020022</td>\n",
       "      <td>Population and VariantBased Genome Analyses of...</td>\n",
       "      <td>Rabies in wildlife has been successfully contr...</td>\n",
       "      <td>2020-01-17</td>\n",
       "      <td>https://www.ncbi.nlm.nih.gov/pmc/articles/PMC7...</td>\n",
       "      <td>PMC7020022</td>\n",
       "      <td>vaccination programs are one of the most effec...</td>\n",
       "      <td>186</td>\n",
       "      <td>2741</td>\n",
       "    </tr>\n",
       "    <tr>\n",
       "      <th>1</th>\n",
       "      <td>u473zap9</td>\n",
       "      <td>NaN</td>\n",
       "      <td>PMC7096178</td>\n",
       "      <td>Publishing in the time of COVID19</td>\n",
       "      <td>eLife is making changes to its policies on pee...</td>\n",
       "      <td>2020-03-25</td>\n",
       "      <td>https://www.ncbi.nlm.nih.gov/pmc/articles/PMC7...</td>\n",
       "      <td>PMC7096178</td>\n",
       "      <td>elife has always taken a strong stand against ...</td>\n",
       "      <td>21</td>\n",
       "      <td>946</td>\n",
       "    </tr>\n",
       "  </tbody>\n",
       "</table>\n",
       "</div>"
      ],
      "text/plain": [
       "   cord_uid                                                sha       pmcid  \\\n",
       "0  mjkzf2ka  549ecd5271e2f5d8e14450001ff82f7c6a0f084d; 98ce...  PMC7020022   \n",
       "1  u473zap9                                                NaN  PMC7096178   \n",
       "\n",
       "                                               title  \\\n",
       "0  Population and VariantBased Genome Analyses of...   \n",
       "1                  Publishing in the time of COVID19   \n",
       "\n",
       "                                            abstract publish_time  \\\n",
       "0  Rabies in wildlife has been successfully contr...   2020-01-17   \n",
       "1  eLife is making changes to its policies on pee...   2020-03-25   \n",
       "\n",
       "                                                 url    paper_id  \\\n",
       "0  https://www.ncbi.nlm.nih.gov/pmc/articles/PMC7...  PMC7020022   \n",
       "1  https://www.ncbi.nlm.nih.gov/pmc/articles/PMC7...  PMC7096178   \n",
       "\n",
       "                                           text_body  count_abstract  \\\n",
       "0  vaccination programs are one of the most effec...             186   \n",
       "1  elife has always taken a strong stand against ...              21   \n",
       "\n",
       "   count_text  \n",
       "0        2741  \n",
       "1         946  "
      ]
     },
     "execution_count": 20,
     "metadata": {},
     "output_type": "execute_result"
    }
   ],
   "source": [
    "complete_df=pd.read_csv(\"/Users/patsnap/Desktop/Neo4J_and_other_codes/Coronavirus_19/corona.csv\")\n",
    "complete_df.head(2)"
   ]
  },
  {
   "cell_type": "code",
   "execution_count": 21,
   "metadata": {},
   "outputs": [],
   "source": [
    "import random\n",
    "frac_of_articles = .10\n",
    "train_df  = complete_df.sample(frac=frac_of_articles, random_state=1)\n",
    "train_corpus = (list(read_corpus(train_df, 'text_body')))"
   ]
  },
  {
   "cell_type": "code",
   "execution_count": 22,
   "metadata": {},
   "outputs": [],
   "source": [
    "# using distributed memory model\n",
    "model = gensim.models.doc2vec.Doc2Vec(dm=1, vector_size=60, min_count=5, epochs=20, seed=42, workers=6)\n",
    "model.build_vocab(train_corpus)\n",
    "model.train(train_corpus, total_examples=model.corpus_count, epochs=model.epochs)"
   ]
  },
  {
   "cell_type": "code",
   "execution_count": 23,
   "metadata": {},
   "outputs": [],
   "source": [
    "task1=\"\"\"What do we know about virus genetics, origin, and evolution? What do we know about the virus origin and management measures at the human-animal interface? Specifically, we want to know what the literature reports about: Real-time tracking of whole genomes and a mechanism for coordinating the rapid dissemination of that information to inform the development of diagnostics and therapeutics and to track variations of the virus over time. Access to geographic and temporal diverse sample sets to understand geographic distribution and genomic differences, and determine whether there is more than one strain in circulation. Multi-lateral agreements such as the Nagoya Protocol could be leveraged. Evidence that livestock could be infected (e.g., field surveillance, genetic sequencing, receptor binding) and serve as a reservoir after the epidemic appears to be over. Evidence of whether farmers are infected, and whether farmers could have played a role in the origin. Surveillance of mixed wildlife- livestock farms for SARS-CoV-2 and other coronaviruses in Southeast Asia. Experimental infections to test host range for this pathogen. Animal host(s) and any evidence of continued spill-over to humans Socioeconomic and behavioral risk factors for this spill-over Sustainable risk reduction strategies\"\"\""
   ]
  },
  {
   "cell_type": "code",
   "execution_count": 24,
   "metadata": {},
   "outputs": [],
   "source": [
    "from itertools import chain\n",
    "from nltk.corpus import wordnet\n",
    "def findsyns(word):\n",
    "    synonyms = wordnet.synsets(word)\n",
    "    lemmas = set(chain.from_iterable([word.lemma_names() for word in synonyms]))\n",
    "    return lemmas\n",
    "task1a=[item for item in task1.split() if findsyns(item)]"
   ]
  },
  {
   "cell_type": "code",
   "execution_count": 25,
   "metadata": {},
   "outputs": [
    {
     "data": {
      "text/plain": [
       "'  do    know    about    virus    do    know    about    virus    origin    management    measures    at    want    know    literature    reports    Real time    tracking    whole    genomes    a    mechanism    coordinating    rapid    dissemination    information    inform    development    diagnostics    therapeutics    track    variations    virus    over    Access    geographic    temporal    diverse    sample    sets    understand    geographic    distribution    determine    there    is    more    one    strain    in    agreements    such    as    Nagoya    Protocol    be    Evidence    livestock    be    infected    field    genetic    receptor    serve    as    a    reservoir    after    epidemic    appears    be    Evidence    farmers    are    farmers    have    played    a    role    in    Surveillance    mixed    livestock    farms    other    in    Southeast    Experimental    infections    test    host    range    Animal    any    evidence    continued    humans    Socioeconomic    behavioral    risk    factors    Sustainable    risk    reduction    strategies  '"
      ]
     },
     "execution_count": 25,
     "metadata": {},
     "output_type": "execute_result"
    }
   ],
   "source": [
    "import re\n",
    "taska1a=re.sub(r\"[^a-zA-Z0-9]\",\" \",str(task1a))\n",
    "taska1a"
   ]
  },
  {
   "cell_type": "code",
   "execution_count": 26,
   "metadata": {},
   "outputs": [],
   "source": [
    "list_of_tasks=list()\n",
    "list_of_tasks=[task1,str(taska1a)]"
   ]
  },
  {
   "cell_type": "code",
   "execution_count": 27,
   "metadata": {},
   "outputs": [
    {
     "data": {
      "text/plain": [
       "['What do we know about virus genetics, origin, and evolution? What do we know about the virus origin and management measures at the human-animal interface? Specifically, we want to know what the literature reports about: Real-time tracking of whole genomes and a mechanism for coordinating the rapid dissemination of that information to inform the development of diagnostics and therapeutics and to track variations of the virus over time. Access to geographic and temporal diverse sample sets to understand geographic distribution and genomic differences, and determine whether there is more than one strain in circulation. Multi-lateral agreements such as the Nagoya Protocol could be leveraged. Evidence that livestock could be infected (e.g., field surveillance, genetic sequencing, receptor binding) and serve as a reservoir after the epidemic appears to be over. Evidence of whether farmers are infected, and whether farmers could have played a role in the origin. Surveillance of mixed wildlife- livestock farms for SARS-CoV-2 and other coronaviruses in Southeast Asia. Experimental infections to test host range for this pathogen. Animal host(s) and any evidence of continued spill-over to humans Socioeconomic and behavioral risk factors for this spill-over Sustainable risk reduction strategies',\n",
       " '  do    know    about    virus    do    know    about    virus    origin    management    measures    at    want    know    literature    reports    Real time    tracking    whole    genomes    a    mechanism    coordinating    rapid    dissemination    information    inform    development    diagnostics    therapeutics    track    variations    virus    over    Access    geographic    temporal    diverse    sample    sets    understand    geographic    distribution    determine    there    is    more    one    strain    in    agreements    such    as    Nagoya    Protocol    be    Evidence    livestock    be    infected    field    genetic    receptor    serve    as    a    reservoir    after    epidemic    appears    be    Evidence    farmers    are    farmers    have    played    a    role    in    Surveillance    mixed    livestock    farms    other    in    Southeast    Experimental    infections    test    host    range    Animal    any    evidence    continued    humans    Socioeconomic    behavioral    risk    factors    Sustainable    risk    reduction    strategies  ']"
      ]
     },
     "execution_count": 27,
     "metadata": {},
     "output_type": "execute_result"
    }
   ],
   "source": [
    "list_of_tasks"
   ]
  },
  {
   "cell_type": "code",
   "execution_count": 28,
   "metadata": {},
   "outputs": [],
   "source": [
    "def get_doc_vector(doc):\n",
    "    tokens = gensim.parsing.preprocess_string(doc)\n",
    "    vector = model.infer_vector(tokens)\n",
    "    return vector\n",
    "body_text_vectors = model.docvecs.vectors_docs\n",
    "array_of_tasks = [get_doc_vector(task) for task in list_of_tasks]\n",
    "train_df['body_text_vectors'] = [vec for vec in body_text_vectors]"
   ]
  },
  {
   "cell_type": "markdown",
   "metadata": {},
   "source": [
    "# Nearest Neigbors search"
   ]
  },
  {
   "cell_type": "code",
   "execution_count": 29,
   "metadata": {},
   "outputs": [
    {
     "data": {
      "text/plain": [
       "(154, 12)"
      ]
     },
     "execution_count": 29,
     "metadata": {},
     "output_type": "execute_result"
    }
   ],
   "source": [
    "train_df = train_df[train_df['text_body'].apply(lambda x: len(re.findall(r\"(?i)\\b[a-z]+\\b\", x))) > 30]\n",
    "train_df.shape"
   ]
  },
  {
   "cell_type": "code",
   "execution_count": 30,
   "metadata": {},
   "outputs": [
    {
     "data": {
      "text/plain": [
       "[array([ 1.895722,  1.21764 , -1.100549,  1.547643, ..., -2.637234, -0.376819, -0.835847, -0.01743 ], dtype=float32),\n",
       " array([-2.229133,  0.311309,  0.501134, -0.069368, ...,  0.477449,  0.903847,  0.235133, -0.638635], dtype=float32),\n",
       " array([ 0.147008,  0.962404, -0.95774 ,  1.760943, ..., -1.684862,  1.03141 , -0.679072,  2.848409], dtype=float32)]"
      ]
     },
     "execution_count": 30,
     "metadata": {},
     "output_type": "execute_result"
    }
   ],
   "source": [
    "#KNN search fitted for body_text vec\n",
    "train_array = train_df['body_text_vectors'].values.tolist()\n",
    "train_array[:3]"
   ]
  },
  {
   "cell_type": "code",
   "execution_count": 31,
   "metadata": {},
   "outputs": [],
   "source": [
    "from sklearn.neighbors import NearestNeighbors\n",
    "ball_tree = NearestNeighbors(algorithm='ball_tree', leaf_size=20).fit(train_array)\n",
    "distances, indices = ball_tree.kneighbors(array_of_tasks, n_neighbors=3)"
   ]
  },
  {
   "cell_type": "code",
   "execution_count": 32,
   "metadata": {},
   "outputs": [
    {
     "name": "stdout",
     "output_type": "stream",
     "text": [
      "================================================================================ \n",
      "\n",
      "Task = What do we know about virus genetics, origin, and evolution? What do we know about the virus origin \n",
      "\n",
      " Text index = 33 \n",
      " Distance to bullet = 4.250237309840028 \n",
      " Title: Baricitinib as potential treatment for 2019nCoV acute respiratory disease \n",
      " Abstract Extract: given the scale and rapid spread of the 2019 novel coronavirus 2019ncov acute respiratory disease there is an immediate need for medicines that can help before a vaccine can be produced results of rap\n",
      "\n",
      "\n",
      " Text index = 114 \n",
      " Distance to bullet = 4.791735676176263 \n",
      " Title: COVID19 in a patient with longterm use of glucocorticoids A study of a familial cluster \n",
      " Abstract Extract: in december 2019 a novel pneumonia resulting from sarscov2 named coronavirus disease 2019 covid19 emerged in wuhan due to the high viral contagiousness and transmission during the presymptomatic phase\n",
      "\n",
      "\n",
      " Text index = 10 \n",
      " Distance to bullet = 5.046160990187607 \n",
      " Title: EARLY ESTIMATION OF REPRODUCTION NUMBER OF COVID19 IN VIETNAM \n",
      " Abstract Extract: reproduction number is an epidemiologic indicator that reflects the contagiousness and transmissibility of infectious agents understanding the reproduction number is crucial for predicting the transmi\n",
      "\n",
      "\n",
      "================================================================================ \n",
      "\n",
      "Task =   do    know    about    virus    do    know    about    virus    origin    management    measures  \n",
      "\n",
      " Text index = 33 \n",
      " Distance to bullet = 3.9590940568744504 \n",
      " Title: Baricitinib as potential treatment for 2019nCoV acute respiratory disease \n",
      " Abstract Extract: given the scale and rapid spread of the 2019 novel coronavirus 2019ncov acute respiratory disease there is an immediate need for medicines that can help before a vaccine can be produced results of rap\n",
      "\n",
      "\n",
      " Text index = 114 \n",
      " Distance to bullet = 4.392373595507983 \n",
      " Title: COVID19 in a patient with longterm use of glucocorticoids A study of a familial cluster \n",
      " Abstract Extract: in december 2019 a novel pneumonia resulting from sarscov2 named coronavirus disease 2019 covid19 emerged in wuhan due to the high viral contagiousness and transmission during the presymptomatic phase\n",
      "\n",
      "\n",
      " Text index = 10 \n",
      " Distance to bullet = 4.814442470170987 \n",
      " Title: EARLY ESTIMATION OF REPRODUCTION NUMBER OF COVID19 IN VIETNAM \n",
      " Abstract Extract: reproduction number is an epidemiologic indicator that reflects the contagiousness and transmissibility of infectious agents understanding the reproduction number is crucial for predicting the transmi\n",
      "\n",
      "\n"
     ]
    }
   ],
   "source": [
    "for i, info in enumerate(list_of_tasks):\n",
    "    print(\"=\"*80, f\"\\n\\nTask = {info[:100]}\\n\", )\n",
    "    df =  train_df.iloc[indices[i]]\n",
    "    body_text = df['text_body']\n",
    "    titles = df['title']\n",
    "    dist = distances[i]\n",
    "    for l in range(len(dist)):\n",
    "        print(f\" Text index = {indices[i][l]} \\n Distance to bullet = {distances[i][l]} \\n Title: {titles.iloc[l]} \\n Abstract Extract: {body_text.iloc[l][:200]}\\n\\n\")"
   ]
  },
  {
   "cell_type": "markdown",
   "metadata": {},
   "source": [
    "# Covid Paper Browser"
   ]
  },
  {
   "cell_type": "code",
   "execution_count": 33,
   "metadata": {},
   "outputs": [],
   "source": [
    "#!pip install transformers\n",
    "#!pip install sentence-transformers\n",
    "#!pip download prettytable\n",
    "#!pip install PrettyTable"
   ]
  },
  {
   "cell_type": "code",
   "execution_count": 37,
   "metadata": {},
   "outputs": [],
   "source": [
    "#!pip install https://pypi.python.org/packages/source/P/PrettyTable/prettytable-0.7.2.tar.bz2"
   ]
  },
  {
   "cell_type": "code",
   "execution_count": 38,
   "metadata": {},
   "outputs": [
    {
     "name": "stdout",
     "output_type": "stream",
     "text": [
      "\n",
      "================================================================================\n",
      "  _____           _     _      __  ___    ____                                  \n",
      " / ____|         (_)   | |    /_ |/ _ \\  |  _ \\                                 \n",
      "| |     _____   ___  __| | ___ | | (_) | | |_) |_ __ _____      _____  ___ _ __ \n",
      "| |    / _ \\ \\ / / |/ _` ||___|| |\\__, | |  _ <| '__/ _ \\ \\ /\\ / / __|/ _ \\ '__|\n",
      "| |___| (_) \\ V /| | (_| |     | |  / /  | |_) | | | (_) \\ V  V /\\__ \\  __/ |   \n",
      " \\_____\\___/ \\_/ |_|\\__,_|     |_| /_/   |____/|_|  \\___/ \\_/\\_/ |___/\\___|_|   \n",
      "=================================================================================\n",
      "\n",
      "\n",
      "This demo uses a state-of-the-art language model trained on scientific papers to\n",
      "search passages matching user-defined queries inside the COVID-19 Open Research\n",
      "Dataset. Ask something like 'Is smoking a risk factor for Covid-19?' to retrieve\n",
      "relevant abstracts.\n",
      "\n",
      "\n",
      "Caching the corpus for future use...\n",
      "Corpus size 42015\n"
     ]
    },
    {
     "name": "stderr",
     "output_type": "stream",
     "text": [
      "100%|██████████| 405M/405M [00:49<00:00, 8.27MB/s] \n",
      "Batches:   0%|          | 1/5252 [00:00<16:49,  5.20it/s]"
     ]
    },
    {
     "name": "stdout",
     "output_type": "stream",
     "text": [
      "Computing and caching model embeddings for future use...\n"
     ]
    },
    {
     "name": "stderr",
     "output_type": "stream",
     "text": [
      "Batches: 100%|██████████| 5252/5252 [3:18:08<00:00,  2.62s/it]  "
     ]
    },
    {
     "name": "stdout",
     "output_type": "stream",
     "text": [
      "CPU times: user 7h 26min, sys: 15min 54s, total: 7h 41min 54s\n",
      "Wall time: 3h 19min 11s\n"
     ]
    },
    {
     "name": "stderr",
     "output_type": "stream",
     "text": [
      "\n"
     ]
    }
   ],
   "source": [
    "%%time\n",
    "import os\n",
    "import tqdm\n",
    "import textwrap\n",
    "import json\n",
    "import prettytable\n",
    "import logging\n",
    "import pickle\n",
    "import warnings\n",
    "warnings.simplefilter('ignore')\n",
    "\n",
    "from  transformers import *\n",
    "import pandas as pd\n",
    "import scipy\n",
    "from sentence_transformers import SentenceTransformer\n",
    "\n",
    "COVID_BROWSER_ASCII = \"\"\"\n",
    "================================================================================\n",
    "  _____           _     _      __  ___    ____                                  \n",
    " / ____|         (_)   | |    /_ |/ _ \\  |  _ \\                                 \n",
    "| |     _____   ___  __| | ___ | | (_) | | |_) |_ __ _____      _____  ___ _ __ \n",
    "| |    / _ \\ \\ / / |/ _` ||___|| |\\__, | |  _ <| '__/ _ \\ \\ /\\ / / __|/ _ \\ '__|\n",
    "| |___| (_) \\ V /| | (_| |     | |  / /  | |_) | | | (_) \\ V  V /\\__ \\  __/ |   \n",
    " \\_____\\___/ \\_/ |_|\\__,_|     |_| /_/   |____/|_|  \\___/ \\_/\\_/ |___/\\___|_|   \n",
    "=================================================================================\n",
    "\"\"\"\n",
    "\n",
    "COVID_BROWSER_INTRO = \"\"\"\n",
    "This demo uses a state-of-the-art language model trained on scientific papers to\n",
    "search passages matching user-defined queries inside the COVID-19 Open Research\n",
    "Dataset. Ask something like 'Is smoking a risk factor for Covid-19?' to retrieve\n",
    "relevant abstracts.\\n\n",
    "\"\"\"\n",
    "\n",
    "BIORXIV_PATH = '/Users/patsnap/Desktop/Neo4J_and_other_codes/Coronavirus_19/CORD-19-research-challenge/biorxiv_medrxiv/biorxiv_medrxiv/'\n",
    "COMM_USE_PATH = '/Users/patsnap/Desktop/Neo4J_and_other_codes/Coronavirus_19/CORD-19-research-challenge/comm_use_subset/comm_use_subset/'\n",
    "NONCOMM_USE_PATH = '/Users/patsnap/Desktop/Neo4J_and_other_codes/Coronavirus_19/CORD-19-research-challenge/noncomm_use_subset/noncomm_use_subset/'\n",
    "METADATA_PATH = '/Users/patsnap/Desktop/Neo4J_and_other_codes/Coronavirus_19/CORD-19-research-challenge/metadata.csv'\n",
    "\n",
    "DATA_PATH = '/Users/patsnap/Desktop/Neo4J_and_other_codes/Coronavirus_19/CORD-19-research-challenge/'\n",
    "MODELS_PATH = 'models'\n",
    "MODEL_NAME = 'scibert-nli'\n",
    "CORPUS_PATH = os.path.join(DATA_PATH, 'corpus.pkl')\n",
    "MODEL_PATH = os.path.join(MODELS_PATH, MODEL_NAME)\n",
    "EMBEDDINGS_PATH = os.path.join(DATA_PATH, f'{MODEL_NAME}-embeddings.pkl')\n",
    "\n",
    "\n",
    "def load_json_files(dirname):\n",
    "    filenames = [file for file in os.listdir(dirname) if file.endswith('.json')]\n",
    "    raw_files = []\n",
    "\n",
    "    for filename in tqdm(filenames):\n",
    "        filename = dirname + filename\n",
    "        file = json.load(open(filename, 'rb'))\n",
    "        raw_files.append(file)\n",
    "    print('Loaded', len(raw_files), 'files from', dirname)\n",
    "    return raw_files\n",
    "\n",
    "\n",
    "def create_corpus_from_json(files):\n",
    "    corpus = []\n",
    "    for file in tqdm(files):\n",
    "        for item in file['abstract']:\n",
    "            corpus.append(item['text'])\n",
    "        for item in file['body_text']:\n",
    "            corpus.append(item['text'])\n",
    "    print('Corpus size', len(corpus))\n",
    "    return corpus\n",
    "\n",
    "\n",
    "def cache_corpus(mode='CSV'):\n",
    "    corpus = []\n",
    "    if mode == 'CSV':\n",
    "        df = pd.read_csv(METADATA_PATH)\n",
    "        corpus = [a for a in df['abstract'] if type(a) == str and a != \"Unknown\"]\n",
    "        print('Corpus size', len(corpus))\n",
    "    elif mode == 'JSON':\n",
    "        biorxiv_files = load_json_files(BIORXIV_PATH)\n",
    "        comm_use_files = load_json_files(COMM_USE_PATH)\n",
    "        noncomm_use_files = load_json_files(NONCOMM_USE_PATH)\n",
    "        corpus = create_corpus_from_json(biorxiv_files + comm_use_files + noncomm_use_files)\n",
    "    else:\n",
    "        raise AttributeError('Mode should be either CSV or JSON')\n",
    "    '''with open(CORPUS_PATH, 'wb') as file:\n",
    "        pickle.dump(corpus, file)'''\n",
    "    return corpus\n",
    "\n",
    "\n",
    "def ask_question(query, model, corpus, corpus_embed, top_k=5):\n",
    "    \"\"\"\n",
    "    Adapted from https://www.kaggle.com/dattaraj/risks-of-covid-19-ai-driven-q-a\n",
    "    \"\"\"\n",
    "    queries = [query]\n",
    "    query_embeds = model.encode(queries, show_progress_bar=False)\n",
    "    for query, query_embed in zip(queries, query_embeds):\n",
    "        distances = scipy.spatial.distance.cdist([query_embed], corpus_embed, \"cosine\")[0]\n",
    "        distances = zip(range(len(distances)), distances)\n",
    "        distances = sorted(distances, key=lambda x: x[1])\n",
    "        results = []\n",
    "        for count, (idx, distance) in enumerate(distances[0:top_k]):\n",
    "            results.append([count + 1, corpus[idx].strip(), round(1 - distance, 4)])\n",
    "    return results\n",
    "\n",
    "\n",
    "def show_answers(results):\n",
    "    table = prettytable.PrettyTable(['Rank', 'Abstract', 'Score'])\n",
    "    for res in results:\n",
    "        rank = res[0]\n",
    "        text = res[1]\n",
    "        text = textwrap.fill(text, width=75)\n",
    "        text = text + '\\n\\n'\n",
    "        score = res[2]\n",
    "        table.add_row([\n",
    "            rank,\n",
    "            text,\n",
    "            score\n",
    "        ])\n",
    "    print('\\n')\n",
    "    print(str(table))\n",
    "    print('\\n')\n",
    "\n",
    "if __name__ == '__main__':\n",
    "    os.system('cls' if os.name == 'nt' else 'clear')\n",
    "    print(COVID_BROWSER_ASCII)\n",
    "    print(COVID_BROWSER_INTRO)\n",
    "    if not os.path.exists(CORPUS_PATH):\n",
    "        print(\"Caching the corpus for future use...\")\n",
    "        corpus = cache_corpus()\n",
    "    else:\n",
    "        print(\"Loading the corpus from\", CORPUS_PATH, '...')\n",
    "        with open(CORPUS_PATH, 'rb') as corpus_pt:\n",
    "            corpus = pickle.load(corpus_pt)\n",
    "\n",
    "    model =  SentenceTransformer('bert-base-nli-stsb-mean-tokens')\n",
    "\n",
    "    if not os.path.exists(EMBEDDINGS_PATH):\n",
    "        print(\"Computing and caching model embeddings for future use...\")\n",
    "        embeddings = model.encode(corpus, show_progress_bar=True)\n",
    "        '''with open(EMBEDDINGS_PATH, 'wb') as file:\n",
    "            pickle.dump(embeddings, file)'''\n",
    "    else:\n",
    "        print(\"Loading model embeddings from\", EMBEDDINGS_PATH, '...')\n",
    "        with open(EMBEDDINGS_PATH, 'rb') as file:\n",
    "            embeddings = pickle.load(file)"
   ]
  },
  {
   "cell_type": "code",
   "execution_count": 40,
   "metadata": {},
   "outputs": [],
   "source": [
    "#list(findsynonyms('car'))\n",
    "#words=df['body_text'].apply(lambda word:[item for item in word if item not in stopwords.words(\"english\")])\n",
    "task1a=[item for item in task1.split() if findsyns(item)]\n",
    "#converting token back to string\n",
    "import re\n",
    "taska1a=re.sub(r\"[^a-zA-Z0-9]\",\" \",str(task1a))"
   ]
  },
  {
   "cell_type": "code",
   "execution_count": 41,
   "metadata": {},
   "outputs": [],
   "source": [
    "list_of_tasks=list()\n",
    "list_of_tasks=[task1,str(taska1a)]"
   ]
  },
  {
   "cell_type": "code",
   "execution_count": 42,
   "metadata": {},
   "outputs": [
    {
     "name": "stdout",
     "output_type": "stream",
     "text": [
      "Query 1 : What do we know about virus genetics, origin, and evolution? What do we know about the virus origin and management measures at the human-animal interface? Specifically, we want to know what the literature reports about: Real-time tracking of whole genomes and a mechanism for coordinating the rapid dissemination of that information to inform the development of diagnostics and therapeutics and to track variations of the virus over time. Access to geographic and temporal diverse sample sets to understand geographic distribution and genomic differences, and determine whether there is more than one strain in circulation. Multi-lateral agreements such as the Nagoya Protocol could be leveraged. Evidence that livestock could be infected (e.g., field surveillance, genetic sequencing, receptor binding) and serve as a reservoir after the epidemic appears to be over. Evidence of whether farmers are infected, and whether farmers could have played a role in the origin. Surveillance of mixed wildlife- livestock farms for SARS-CoV-2 and other coronaviruses in Southeast Asia. Experimental infections to test host range for this pathogen. Animal host(s) and any evidence of continued spill-over to humans Socioeconomic and behavioral risk factors for this spill-over Sustainable risk reduction strategies\n",
      "\n",
      "\n",
      "\n",
      "\n",
      "+------+-----------------------------------------------------------------------------+--------+\n",
      "| Rank |                                   Abstract                                  | Score  |\n",
      "+------+-----------------------------------------------------------------------------+--------+\n",
      "|  1   |  Abstract The current classification of animal viruses primarily relates to | 0.8329 |\n",
      "|      |  the virus molecular world, the genomic architecture and the corresponding  |        |\n",
      "|      |   host-cell infection cycle. This virus centered perspective does not make  |        |\n",
      "|      |       allowance for the precept that virus fitness hinges on the virus      |        |\n",
      "|      |  transmission success. Virus transmission reflects the infection-shedding-  |        |\n",
      "|      | transmission dynamics and, with it, the organ system involvement and other, |        |\n",
      "|      |   macroscopic dimensions of the host environment. This study examines the   |        |\n",
      "|      |    transmission ecology of the world main livestock viruses, 36 in total,   |        |\n",
      "|      |      belonging to eleven different families, and a mix of RNA, DNA and      |        |\n",
      "|      |    retroviruses. Viruses are virtually ranked in an outer- to inner-body    |        |\n",
      "|      |    fashion, based on the shifting organ system involvement and associated   |        |\n",
      "|      |  infection-shedding-transmission dynamics. As a next step, this ranking is  |        |\n",
      "|      | disentangled with the aim to contrast two main host ecologies, poultry plus |        |\n",
      "|      |  pig production and ruminant plus equine husbandry, as well as to create a  |        |\n",
      "|      |  distinction among the RNA, DNA and retroviruses, also ranked in an outer-  |        |\n",
      "|      | to inner-body fashion. Spearman correlation reveals the matches among these |        |\n",
      "|      |     various virus traits, as pertaining to the two host-ecologies, four     |        |\n",
      "|      |    infection-shedding-transmission related variables, and the three virus   |        |\n",
      "|      |  genomes. The collective results reveal the outer- to inner-body shifts in  |        |\n",
      "|      |  the interplay of host environment, virus-host interactions, and nature of  |        |\n",
      "|      |  the virus. Two opposing virus evolution pathways emerge, respectively for  |        |\n",
      "|      |   generalist type, outer-body and for specialist type, inner-body viruses.  |        |\n",
      "|      |   The ecological virus classification here presented is broadly consistent  |        |\n",
      "|      |   with the current virus classification system and offers the advantage of  |        |\n",
      "|      | bringing substance and cohesion to the interrelationships among viruses and |        |\n",
      "|      |                               virus families.                               |        |\n",
      "|      |                                                                             |        |\n",
      "|      |                                                                             |        |\n",
      "|  2   |  Abstract Nucleic acid probe technology is increasingly being used in basic | 0.8251 |\n",
      "|      | research in veterinary microbiology and in diagnosis of infectious diseases |        |\n",
      "|      |  of veterinary importance. This review presents an overview of nucleic acid |        |\n",
      "|      |  probe methodology and its applications in veterinary infectious diseases.  |        |\n",
      "|      |      The major applications of nucleic acid probes include detection of     |        |\n",
      "|      |     pathogens in clinical samples, especially those organisms which are     |        |\n",
      "|      |  fastidious and difficult to cultivate, differentiation of virulent from a  |        |\n",
      "|      |  virulent organisms and vaccine strains from wild type isolates, typing of  |        |\n",
      "|      |     microorganisms mapping genes, screening libraries of cloned DNA for     |        |\n",
      "|      | specific genes, detection of latently infected or carrier animals, study of |        |\n",
      "|      |     mechanisms of pathogenesis, epidemiological studies and food safety.    |        |\n",
      "|      |                                                                             |        |\n",
      "|      |                                                                             |        |\n",
      "|  3   |  Next-generation sequencing is a new research tool in our hands helping us  |  0.82  |\n",
      "|      |      to explore still unknown fields of human and veterinary virology.      |        |\n",
      "|      |  Metagenomic analysis has enabled the discovery of putative novel pathogens |        |\n",
      "|      | and the identification of the etiologic agents of several diseases, solving |        |\n",
      "|      | long-standing mysteries caused by divergent viruses. This approach has been |        |\n",
      "|      |    used in several studies investigating fecal samples of livestock, and    |        |\n",
      "|      |  companion animal species, providing information on the diversity of animal |        |\n",
      "|      |  fecal virome, helping the elucidation of the etiology of diarrheal disease |        |\n",
      "|      |     in animals and identifying potential zoonotic and emerging viruses.     |        |\n",
      "|      |                                                                             |        |\n",
      "|      |                                                                             |        |\n",
      "|  4   |   BACKGROUND: The large livestock operations and dense human population of  | 0.8144 |\n",
      "|      |  Southeast Asia are considered a hot-spot for emerging viruses. OBJECTIVES: |        |\n",
      "|      |      To determine if the pathogens adenovirus (ADV), coronavirus (CoV),     |        |\n",
      "|      |   encephalomyocarditis virus (EMCV), enterovirus (EV), influenza A-D (IAV,  |        |\n",
      "|      |  IBV, ICV, and IDV), porcine circovirus 2 (PCV2), and porcine rotaviruses A |        |\n",
      "|      | and C (RVA and RVC), are aerosolized at the animal-interface, and if humans |        |\n",
      "|      |   working in these environments are carrying these viruses in their nasal   |        |\n",
      "|      |  airways. STUDY: This cross-sectional study took place in Sarawak, Malaysia |        |\n",
      "|      |  among 11 pig farms, 2 abattoirs, and 3 animal markets in June and July of  |        |\n",
      "|      |   2017. Pig feces, pig oral secretions, bioaerosols, and worker nasal wash  |        |\n",
      "|      |   samples were collected and analyzed via rPCR and rRT-PCR for respiratory  |        |\n",
      "|      | and diarrheal viruses. RESULTS: In all, 55 pig fecal, 49 pig oral or water, |        |\n",
      "|      |   45 bioaerosol, and 78 worker nasal wash samples were collected across 16  |        |\n",
      "|      |      sites. PCV2 was detected in 21 pig fecal, 43 pig oral or water, 3      |        |\n",
      "|      |    bioaerosol, and 4 worker nasal wash samples. In addition, one or more    |        |\n",
      "|      |   bioaerosol or pig samples were positive for EV, IAV, and RVC, and one or  |        |\n",
      "|      |  more worker samples were positive for ADV, CoV, IBV, and IDV. CONCLUSIONS: |        |\n",
      "|      |     This study demonstrates that nucleic acids from a number of targeted    |        |\n",
      "|      | viruses were present in pig oral secretions and pig fecal samples, and that |        |\n",
      "|      |     several viruses were detected in bioaerosol samples or in the nasal     |        |\n",
      "|      |     passages of humans with occupational exposure to pigs. These results    |        |\n",
      "|      |       demonstrate the need for future research in strengthening viral       |        |\n",
      "|      |  surveillance at the human-animal interface, specifically through expanded  |        |\n",
      "|      |  bioaerosol sampling efforts and a seroepidemiological study of individuals |        |\n",
      "|      |           with exposure to pigs in this region for PCV2 infection.          |        |\n",
      "|      |                                                                             |        |\n",
      "|      |                                                                             |        |\n",
      "|  5   |   The development of porcine epidemic diarrhea virus (PEDV) antibody-based  | 0.809  |\n",
      "|      |   assays is important for detecting infected animals, confirming previous   |        |\n",
      "|      |   virus exposure, and monitoring sow herd immunity. However, the potential  |        |\n",
      "|      |   cross-reactivity among porcine coronaviruses is a major concern for the   |        |\n",
      "|      |    development of pathogen-specific assays. In this study, we used serum    |        |\n",
      "|      |    samples (n = 792) from pigs of precisely known infection status and a    |        |\n",
      "|      |    multiplex fluorescent microbead-based immunoassay and/or enzyme-linked   |        |\n",
      "|      |  immunoassay platform to characterize the antibody response to PEDV whole-  |        |\n",
      "|      |   virus (WV) particles and recombinant polypeptides derived from the four   |        |\n",
      "|      |  PEDV structural proteins, i.e., spike (S), nucleocapsid (N), membrane (M), |        |\n",
      "|      |   and envelope (E). Antibody assay cutoff values were selected to provide   |        |\n",
      "|      |    100% diagnostic specificity for each target. The earliest IgG antibody   |        |\n",
      "|      |  response, mainly directed against S1 polypeptides, was observed at days 7  |        |\n",
      "|      |     to 10 postinfection. With the exception of nonreactive protein E, we    |        |\n",
      "|      | observed similar antibody ontogenies and patterns of seroconversion for S1, |        |\n",
      "|      |      N, M, and WV antigens. Recombinant S1 provided the best diagnostic     |        |\n",
      "|      |     sensitivity, regardless of the PEDV strain, with no cross-reactivity    |        |\n",
      "|      |     detected against transmissible gastroenteritis virus (TGEV), porcine    |        |\n",
      "|      |   respiratory coronavirus (PRCV), or porcine deltacoronavirus (PDCoV) pig   |        |\n",
      "|      |  antisera. The WV particles showed some cross-reactivity to TGEV Miller and |        |\n",
      "|      |   TGEV Purdue antisera, while N protein presented some cross-reactivity to  |        |\n",
      "|      |    TGEV Miller. The M protein was highly cross-reactive to TGEV and PRCV    |        |\n",
      "|      | antisera. Differences in the antibody responses to specific PEDV structural |        |\n",
      "|      |  proteins have important implications in the development and performance of |        |\n",
      "|      |          antibody assays for the diagnosis of PEDV enteric disease.         |        |\n",
      "|      |                                                                             |        |\n",
      "|      |                                                                             |        |\n",
      "+------+-----------------------------------------------------------------------------+--------+\n",
      "\n",
      "\n",
      "Query 2 :   do    know    about    virus    do    know    about    virus    origin    management    measures    at    want    know    literature    reports    Real time    tracking    whole    genomes    a    mechanism    coordinating    rapid    dissemination    information    inform    development    diagnostics    therapeutics    track    variations    virus    over    Access    geographic    temporal    diverse    sample    sets    understand    geographic    distribution    determine    there    is    more    one    strain    in    agreements    such    as    Nagoya    Protocol    be    Evidence    livestock    be    infected    field    genetic    receptor    serve    as    a    reservoir    after    epidemic    appears    be    Evidence    farmers    are    farmers    have    played    a    role    in    Surveillance    mixed    livestock    farms    other    in    Southeast    Experimental    infections    test    host    range    Animal    any    evidence    continued    humans    Socioeconomic    behavioral    risk    factors    Sustainable    risk    reduction    strategies  \n",
      "\n",
      "\n"
     ]
    },
    {
     "name": "stdout",
     "output_type": "stream",
     "text": [
      "\n",
      "\n",
      "+------+-----------------------------------------------------------------------------+--------+\n",
      "| Rank |                                   Abstract                                  | Score  |\n",
      "+------+-----------------------------------------------------------------------------+--------+\n",
      "|  1   |    The spread of pathogens in swine populations is in part determined by    | 0.8167 |\n",
      "|      |    movements of animals between farms. However, understanding additional    |        |\n",
      "|      |   characteristics that predict disease outbreaks and uncovering landscape   |        |\n",
      "|      |     factors related to between-farm spread are crucial steps toward risk    |        |\n",
      "|      |  mitigation. This study integrates animal movements with environmental risk |        |\n",
      "|      |    factors to identify the occurrence of porcine epidemic diarrhea virus    |        |\n",
      "|      |    (PEDV) outbreaks. Using weekly farm-level incidence data from 332 sow    |        |\n",
      "|      |    farms, we applied machine-learning algorithms to quantify associations   |        |\n",
      "|      |  between risk factors and PEDV outbreaks with the ultimate goal of training |        |\n",
      "|      |   predictive models and to identify the most important factors associated   |        |\n",
      "|      |    with PEDV occurrence. Our best algorithm was able to correctly predict   |        |\n",
      "|      |   whether an outbreak occurred during one-week periods with >80% accuracy.  |        |\n",
      "|      |    The most important predictors included pig movements into neighboring    |        |\n",
      "|      |     farms. Other important neighborhood attributes included hog density,    |        |\n",
      "|      |      environmental and weather factors such as vegetation, wind speed,      |        |\n",
      "|      |  temperature, and precipitation, and topographical features such as slope.  |        |\n",
      "|      |     Our neighborhood-based approach allowed us to simultaneously capture    |        |\n",
      "|      |    disease risks associated with long-distance animal movement as well as   |        |\n",
      "|      |  local spatial dynamics. The model presented here forms the foundation for  |        |\n",
      "|      |   near real-time disease mapping and will advance disease surveillance and  |        |\n",
      "|      |          control for endemic swine pathogens in the United States.          |        |\n",
      "|      |                                                                             |        |\n",
      "|      |                                                                             |        |\n",
      "|  2   |  Abstract The current classification of animal viruses primarily relates to | 0.8107 |\n",
      "|      |  the virus molecular world, the genomic architecture and the corresponding  |        |\n",
      "|      |   host-cell infection cycle. This virus centered perspective does not make  |        |\n",
      "|      |       allowance for the precept that virus fitness hinges on the virus      |        |\n",
      "|      |  transmission success. Virus transmission reflects the infection-shedding-  |        |\n",
      "|      | transmission dynamics and, with it, the organ system involvement and other, |        |\n",
      "|      |   macroscopic dimensions of the host environment. This study examines the   |        |\n",
      "|      |    transmission ecology of the world main livestock viruses, 36 in total,   |        |\n",
      "|      |      belonging to eleven different families, and a mix of RNA, DNA and      |        |\n",
      "|      |    retroviruses. Viruses are virtually ranked in an outer- to inner-body    |        |\n",
      "|      |    fashion, based on the shifting organ system involvement and associated   |        |\n",
      "|      |  infection-shedding-transmission dynamics. As a next step, this ranking is  |        |\n",
      "|      | disentangled with the aim to contrast two main host ecologies, poultry plus |        |\n",
      "|      |  pig production and ruminant plus equine husbandry, as well as to create a  |        |\n",
      "|      |  distinction among the RNA, DNA and retroviruses, also ranked in an outer-  |        |\n",
      "|      | to inner-body fashion. Spearman correlation reveals the matches among these |        |\n",
      "|      |     various virus traits, as pertaining to the two host-ecologies, four     |        |\n",
      "|      |    infection-shedding-transmission related variables, and the three virus   |        |\n",
      "|      |  genomes. The collective results reveal the outer- to inner-body shifts in  |        |\n",
      "|      |  the interplay of host environment, virus-host interactions, and nature of  |        |\n",
      "|      |  the virus. Two opposing virus evolution pathways emerge, respectively for  |        |\n",
      "|      |   generalist type, outer-body and for specialist type, inner-body viruses.  |        |\n",
      "|      |   The ecological virus classification here presented is broadly consistent  |        |\n",
      "|      |   with the current virus classification system and offers the advantage of  |        |\n",
      "|      | bringing substance and cohesion to the interrelationships among viruses and |        |\n",
      "|      |                               virus families.                               |        |\n",
      "|      |                                                                             |        |\n",
      "|      |                                                                             |        |\n",
      "|  3   |   This article summarizes the state of the art in vaccine research against  |  0.81  |\n",
      "|      | parasitic helminths in sheep and cattle. Optimization of antigen production |        |\n",
      "|      |   (eg, recombinant expression) and antigen delivery, followed by extensive  |        |\n",
      "|      |    field testing, is still required for further development of vaccines.    |        |\n",
      "|      |    Helminth vaccines should sufficiently reduce parasite transmission to    |        |\n",
      "|      |      protect vaccinated animals against parasite-induced disorders and      |        |\n",
      "|      |   production loss. Vaccine efficacy requirements depend on the parasite’s   |        |\n",
      "|      |      epidemiology and farm management, both of which vary in different      |        |\n",
      "|      |  geographic regions and are influenced by climate. Vaccination is likely to |        |\n",
      "|      |     be part of integrated worm control, together with other worm control    |        |\n",
      "|      |                                  measures.                                  |        |\n",
      "|      |                                                                             |        |\n",
      "|      |                                                                             |        |\n",
      "|  4   |     BACKGROUND: Early detection of porcine reproductive and respiratory     | 0.7979 |\n",
      "|      |    syndrome virus (PRRSV) infection of swine is necessary to control this   |        |\n",
      "|      | devastating disease. By monitoring host serum antibodies to viral antigens, |        |\n",
      "|      |  early virus detection within herds is feasible. In this study, recombinant |        |\n",
      "|      |    antigens were generated using recombinant DNA techniques to fuse PRRSV   |        |\n",
      "|      | structural protein (N) or nonstructural protein 1α (nsp1α) with the Rellina |        |\n",
      "|      |       luciferase gene. Next, fused genes were cloned into plasmids and      |        |\n",
      "|      |     transfected into HEK-293 T cells for transient expression. Upon co-     |        |\n",
      "|      | incubation of lysates with pig sera, antigen-antibody complexes formed that |        |\n",
      "|      |    bound to Protein-G coated onto microplates. By further measurement of    |        |\n",
      "|      | luminance value, a modified form of Luciferase Immunoprecipitation Systems, |        |\n",
      "|      |   namely luciferase-linked antibody capture assay (LACA) was developed for  |        |\n",
      "|      | detection of PRRSV-specific antibodies. RESULTS: Known anti-PRRSV antibody- |        |\n",
      "|      |   positive or -negative serum samples (125 and 122 samples, respectively)   |        |\n",
      "|      |   were used to validate the LACA and compared it with IDEXX PRRS ×3 ELISA.  |        |\n",
      "|      | Based on the result, N-Rluc and nsp1α-Rluc LACA results were 95.3 and 94.4% |        |\n",
      "|      |  in agreement with IDEXX ELISA, suggested a similar specificity of LACA to  |        |\n",
      "|      | IDEXX ELISA. Moreover, when both LACA and IDEXX ELISA were used to evaluate |        |\n",
      "|      |  sequential serum samples obtained from PRRSV experimentally infected pigs, |        |\n",
      "|      |    the PRRSV-specific antibody response was detectable as early as 3 days   |        |\n",
      "|      |    post-inoculation (dpi) using N-Rluc LACA, but undetectable until 7 dpi   |        |\n",
      "|      |  using IDEXX ELISA, suggesting an improved sensitivity of LACA. Meanwhile,  |        |\n",
      "|      |  antibodies specific for nsp1α were detected at higher levels overall, but  |        |\n",
      "|      |    were undetectable until 10 dpi. Furthermore,. Notably, one IDEXX ELISA   |        |\n",
      "|      |  positive result was not confirmed by LACA or IFA and was thus considered a |        |\n",
      "|      |  false-positive result. CONCLUSION: The LACA exhibited similar specificity  |        |\n",
      "|      |  but improved sensitivity to that of the commercial IDEXX PRRS ×3 ELISA kit |        |\n",
      "|      |  for detection of PRRSV-specific antibodies in pig serum. Importantly, LACA |        |\n",
      "|      | could be adapted for detecting antibodies against other PRRSV targets, such |        |\n",
      "|      |          as nsp1α, to achieve earlier detection of PRRSV infection.         |        |\n",
      "|      |                                                                             |        |\n",
      "|      |                                                                             |        |\n",
      "|  5   |   Abstract Epidemiological models of the spread of pathogens in livestock   | 0.7965 |\n",
      "|      | populations primarily focus on direct contact between farms based on animal |        |\n",
      "|      |  movement data, and in some cases, local spatial spread based on proximity  |        |\n",
      "|      |  between premises. The roles of other types of indirect contact among farms |        |\n",
      "|      |   is rarely accounted for. In addition, data on animal movements is seldom  |        |\n",
      "|      |   available in the United States. However, the spread of porcine epidemic   |        |\n",
      "|      |  diarrhea virus (PEDv) in U.S. swine represents one of the best documented  |        |\n",
      "|      |  emergences of a highly infectious pathogen in the U.S. livestock industry, |        |\n",
      "|      |    providing an opportunity to parameterize models of pathogen spread via   |        |\n",
      "|      |  direct and indirect transmission mechanisms in swine. Using observed data  |        |\n",
      "|      |      on pig movements during the initial phase of the PEDv epidemic, we     |        |\n",
      "|      | developed a network-based and spatially explicit epidemiological model that |        |\n",
      "|      |  simulates the spread of PEDv via both indirect and direct movement-related |        |\n",
      "|      |      contact in order to answer unresolved questions concerning factors     |        |\n",
      "|      | facilitating between-farm transmission. By modifying the likelihood of each |        |\n",
      "|      |  transmission mechanism and fitting this model to observed epidemiological  |        |\n",
      "|      |  dynamics, our results suggest that between-farm transmission was primarily |        |\n",
      "|      |     driven by direct mechanisms related to animal movement and indirect     |        |\n",
      "|      |  mechanisms related to local spatial spread based on geographic proximity.  |        |\n",
      "|      |     However, other forms of indirect transmission among farms, including    |        |\n",
      "|      |    contact via contaminated vehicles and feed, were responsible for high    |        |\n",
      "|      |  consequence transmission events resulting in the introduction of the virus |        |\n",
      "|      |    into new geographic areas. This research is among the first reports of   |        |\n",
      "|      |      farm-level animal movements in the U.S. swine industry and, to our     |        |\n",
      "|      |   knowledge, represents the first epidemiological model of commercial U.S.  |        |\n",
      "|      |            swine using actual data on farm-level animal movement.           |        |\n",
      "|      |                                                                             |        |\n",
      "|      |                                                                             |        |\n",
      "+------+-----------------------------------------------------------------------------+--------+\n",
      "\n",
      "\n"
     ]
    }
   ],
   "source": [
    "for i in range(len(list_of_tasks)):\n",
    "    query = list_of_tasks[i]\n",
    "    print(f'Query {i+1} : {query}\\n\\n')\n",
    "    results = ask_question(query, model, corpus, embeddings)\n",
    "    show_answers(results)"
   ]
  }
 ],
 "metadata": {
  "kernelspec": {
   "display_name": "Python 3",
   "language": "python",
   "name": "python3"
  },
  "language_info": {
   "codemirror_mode": {
    "name": "ipython",
    "version": 3
   },
   "file_extension": ".py",
   "mimetype": "text/x-python",
   "name": "python",
   "nbconvert_exporter": "python",
   "pygments_lexer": "ipython3",
   "version": "3.7.5"
  }
 },
 "nbformat": 4,
 "nbformat_minor": 2
}

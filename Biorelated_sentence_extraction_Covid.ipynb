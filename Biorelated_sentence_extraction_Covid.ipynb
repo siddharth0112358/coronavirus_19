{
 "cells": [
  {
   "cell_type": "markdown",
   "metadata": {},
   "source": [
    "#https://github.com/jakelever/biowordlists"
   ]
  },
  {
   "cell_type": "markdown",
   "metadata": {},
   "source": [
    "#https://github.com/ChristosChristofidis/awesome-public-datasets"
   ]
  },
  {
   "cell_type": "markdown",
   "metadata": {},
   "source": [
    "#while doing for whole dataset stop at /Users/patsnap/Desktop/Neo4J_and_other_codes/Coronavirus_19/CORD-19-research-challenge"
   ]
  },
  {
   "cell_type": "code",
   "execution_count": 8,
   "metadata": {},
   "outputs": [],
   "source": [
    "import numpy as np # linear algebra\n",
    "import pandas as pd # data processing, CSV file I/O (e.g. pd.read_csv)\n",
    "import json\n",
    "import os\n",
    "from tqdm import tqdm\n",
    "\n",
    "# Input data files are available in the \"../input/\" directory.\n",
    "#####################################################################################\n",
    "#thanks for your work vasuji https://www.kaggle.com/vasuji/i-covid19-nlp-data-parsing\n",
    "#####################################################################################\n",
    "datafiles = []\n",
    "for dirname, _, filenames in os.walk('/Users/patsnap/Desktop/Neo4J_and_other_codes/Coronavirus_19/CORD-19-research-challenge/noncomm_use_subset/noncomm_use_subset'):\n",
    "    for filename in filenames:\n",
    "        ifile = os.path.join(dirname, filename)\n",
    "        if ifile.split(\".\")[-1] == \"json\":\n",
    "            datafiles.append(ifile)"
   ]
  },
  {
   "cell_type": "code",
   "execution_count": 9,
   "metadata": {},
   "outputs": [
    {
     "data": {
      "text/plain": [
       "4707"
      ]
     },
     "execution_count": 9,
     "metadata": {},
     "output_type": "execute_result"
    }
   ],
   "source": [
    "len(datafiles)"
   ]
  },
  {
   "cell_type": "code",
   "execution_count": 10,
   "metadata": {},
   "outputs": [
    {
     "data": {
      "text/plain": [
       "['/Users/patsnap/Desktop/Neo4J_and_other_codes/Coronavirus_19/CORD-19-research-challenge/noncomm_use_subset/noncomm_use_subset/pmc_json/PMC4834006.xml.json',\n",
       " '/Users/patsnap/Desktop/Neo4J_and_other_codes/Coronavirus_19/CORD-19-research-challenge/noncomm_use_subset/noncomm_use_subset/pmc_json/PMC6780997.xml.json']"
      ]
     },
     "execution_count": 10,
     "metadata": {},
     "output_type": "execute_result"
    }
   ],
   "source": [
    "datafiles[0:2]"
   ]
  },
  {
   "cell_type": "code",
   "execution_count": 11,
   "metadata": {},
   "outputs": [
    {
     "name": "stdout",
     "output_type": "stream",
     "text": [
      "finish load title\n",
      "finish load abstract\n",
      "finish load bodytext\n"
     ]
    }
   ],
   "source": [
    "id2title = []\n",
    "for file in datafiles:\n",
    "    with open(file,'r')as f:\n",
    "        doc = json.load(f)\n",
    "    id = doc['paper_id'] \n",
    "    title = doc['metadata']['title']\n",
    "    id2title.append({id:title})\n",
    "\n",
    "print ('finish load title')\n",
    "\n",
    "id2abstract = []\n",
    "for file in datafiles:\n",
    "    with open(file,'r')as f:\n",
    "        doc = json.load(f)\n",
    "    id = doc['paper_id'] \n",
    "    abstract = ''\n",
    "    try:\n",
    "        for item in doc['abstract']:\n",
    "            abstract = abstract + item['text']\n",
    "            \n",
    "        id2abstract.append({id:abstract})\n",
    "    except KeyError:\n",
    "        None\n",
    "    \n",
    "print ('finish load abstract')    \n",
    "     \n",
    "id2bodytext = []\n",
    "for file in datafiles:\n",
    "    with open(file,'r')as f:\n",
    "        doc = json.load(f)\n",
    "    id = doc['paper_id'] \n",
    "    bodytext = ''\n",
    "    try:\n",
    "        for item in doc['body_text']:\n",
    "            bodytext = bodytext + item['text']\n",
    "            \n",
    "        id2bodytext.append({id:bodytext})\n",
    "    except KeyError:\n",
    "        None\n",
    "print ('finish load bodytext')"
   ]
  },
  {
   "cell_type": "code",
   "execution_count": 14,
   "metadata": {},
   "outputs": [],
   "source": [
    "# !pip install https://s3-us-west-2.amazonaws.com/ai2-s2-scispacy/releases/v0.2.4/en_ner_bionlp13cg_md-0.2.4.tar.gz\n",
    "# !pip install scispacy"
   ]
  },
  {
   "cell_type": "code",
   "execution_count": 13,
   "metadata": {},
   "outputs": [],
   "source": [
    "import scispacy\n",
    "import en_ner_bionlp13cg_md\n",
    "from spacy import displacy\n",
    "from scispacy.abbreviation import AbbreviationDetector\n",
    "from scispacy.umls_linking import UmlsEntityLinker\n",
    "from nltk import tokenize"
   ]
  },
  {
   "cell_type": "code",
   "execution_count": 15,
   "metadata": {},
   "outputs": [],
   "source": [
    "nlp = en_ner_bionlp13cg_md.load()"
   ]
  },
  {
   "cell_type": "markdown",
   "metadata": {},
   "source": [
    "Extract Key Sentence on all paper abstract. I didn't extract on bodytext, it takes too much time (exceed the kernel time limit). Only run on 100 data, it's an example to use NER"
   ]
  },
  {
   "cell_type": "code",
   "execution_count": 16,
   "metadata": {},
   "outputs": [
    {
     "name": "stderr",
     "output_type": "stream",
     "text": [
      "100%|██████████| 100/100 [00:06<00:00, 15.28it/s]\n"
     ]
    }
   ],
   "source": [
    "sentence_list=[]\n",
    "sentence_list_without_col = []\n",
    "ID_list = []\n",
    "ent_type_all_check = []\n",
    "ent_type_all= []\n",
    "for i in tqdm(range(len(id2abstract[:100]))):\n",
    "    ID = list(id2abstract[i].keys())[0]\n",
    "    text = list(id2abstract[i].values())[0]\n",
    "    a = tokenize.sent_tokenize(text) # Split Sentence\n",
    "    for sent in a:\n",
    "        print_flag = False\n",
    "        doc = nlp(sent)\n",
    "        count_label =0\n",
    "        ent_type = ''\n",
    "        check_dupl =[]\n",
    "        sent_withcol = sent\n",
    "        sent_withoutcol = sent\n",
    "        for x in doc.ents:\n",
    "            if x.text not in check_dupl:\n",
    "                sent_withcol = sent_withcol.replace(x.text,f\"\\033[1;40m{x.text}\\033[1;31;40m ({x.label_}) \\033[00m\")\n",
    "                sent_withoutcol = sent_withoutcol.replace(x.text,f\"{x.text} *{x.label_}*\")\n",
    "                check_dupl.append(x.text)\n",
    "                print_flag =True\n",
    "\n",
    "            if x.label_ not in ent_type:\n",
    "                ent_type+= f'{x.label_}, '\n",
    "                ent_type_all_check.append(x.label_)\n",
    "                \n",
    "        if print_flag== True:\n",
    "            sentence_list.append('* '+sent_withcol)\n",
    "            sentence_list_without_col.append('* '+sent)\n",
    "            ent_type_all.append(ent_type)\n",
    "            ID_list.append(ID)"
   ]
  },
  {
   "cell_type": "code",
   "execution_count": 17,
   "metadata": {},
   "outputs": [
    {
     "data": {
      "text/plain": [
       "(409, 409, 409, 409)"
      ]
     },
     "execution_count": 17,
     "metadata": {},
     "output_type": "execute_result"
    }
   ],
   "source": [
    "len(ID_list),len(sentence_list),len(sentence_list_without_col),len(ent_type_all)"
   ]
  },
  {
   "cell_type": "code",
   "execution_count": 18,
   "metadata": {},
   "outputs": [],
   "source": [
    "pd_all = pd.DataFrame({'Paper_ID':ID_list,'Sentence_col':sentence_list,'Sentence_wo_col':sentence_list_without_col,'NER_Key':ent_type_all})"
   ]
  },
  {
   "cell_type": "code",
   "execution_count": 19,
   "metadata": {},
   "outputs": [],
   "source": [
    "type_list = pd.Series(ent_type_all_check).unique().tolist() # Entity type"
   ]
  },
  {
   "cell_type": "markdown",
   "metadata": {},
   "source": [
    "# Ipywidgets for Visaulize the text"
   ]
  },
  {
   "cell_type": "code",
   "execution_count": 20,
   "metadata": {},
   "outputs": [],
   "source": [
    "from __future__ import print_function\n",
    "from ipywidgets import interact, interactive, fixed, interact_manual\n",
    "import ipywidgets as widgets"
   ]
  },
  {
   "cell_type": "code",
   "execution_count": 21,
   "metadata": {},
   "outputs": [],
   "source": [
    "def f(Paper_ID='all',Show_Many='100', Entity='ORGANISM', Show_original=False):\n",
    "    pd_all2 = pd_all.copy()[:int(Show_Many)]\n",
    "    if Paper_ID != 'all':\n",
    "        pd_all2 = pd_all[pd_all.Paper_ID==Paper_ID].copy()[:int(Show_Many)]\n",
    "    pd_all2 = pd_all2[pd_all2['NER_Key'].str.contains(Entity)].reset_index(drop=True)\n",
    "    for i in range(len(pd_all2)):\n",
    "        if Show_original==True:\n",
    "            print (pd_all2['Sentence_wo_col'][i])  \n",
    "        else:\n",
    "            print (pd_all2['Sentence_col'][i])    "
   ]
  },
  {
   "cell_type": "code",
   "execution_count": 22,
   "metadata": {},
   "outputs": [
    {
     "data": {
      "application/vnd.jupyter.widget-view+json": {
       "model_id": "60c02c06dbd54b13b7d85db8582ccedf",
       "version_major": 2,
       "version_minor": 0
      },
      "text/plain": [
       "interactive(children=(Text(value='all', description='Paper_ID'), Text(value='100', description='Show_Many'), D…"
      ]
     },
     "metadata": {},
     "output_type": "display_data"
    }
   ],
   "source": [
    "interact(f, Paper_ID='all',Show_Many='100',Entity=type_list, Original = False);"
   ]
  },
  {
   "cell_type": "code",
   "execution_count": null,
   "metadata": {},
   "outputs": [],
   "source": []
  },
  {
   "cell_type": "code",
   "execution_count": null,
   "metadata": {},
   "outputs": [],
   "source": []
  },
  {
   "cell_type": "code",
   "execution_count": null,
   "metadata": {},
   "outputs": [],
   "source": []
  },
  {
   "cell_type": "code",
   "execution_count": null,
   "metadata": {},
   "outputs": [],
   "source": []
  },
  {
   "cell_type": "code",
   "execution_count": null,
   "metadata": {},
   "outputs": [],
   "source": []
  }
 ],
 "metadata": {
  "kernelspec": {
   "display_name": "Python 3",
   "language": "python",
   "name": "python3"
  },
  "language_info": {
   "codemirror_mode": {
    "name": "ipython",
    "version": 3
   },
   "file_extension": ".py",
   "mimetype": "text/x-python",
   "name": "python",
   "nbconvert_exporter": "python",
   "pygments_lexer": "ipython3",
   "version": "3.7.5"
  }
 },
 "nbformat": 4,
 "nbformat_minor": 2
}

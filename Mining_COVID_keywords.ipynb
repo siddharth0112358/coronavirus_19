{
 "cells": [
  {
   "cell_type": "code",
   "execution_count": 1,
   "metadata": {},
   "outputs": [
    {
     "data": {
      "text/plain": [
       "'1.15.0'"
      ]
     },
     "execution_count": 1,
     "metadata": {},
     "output_type": "execute_result"
    }
   ],
   "source": [
    "import tensorflow as tf\n",
    "tf.VERSION"
   ]
  },
  {
   "cell_type": "code",
   "execution_count": 4,
   "metadata": {},
   "outputs": [],
   "source": [
    "import bert\n",
    "from bert import run_classifier\n",
    "from bert import optimization\n",
    "from bert import tokenization\n",
    "from bert import modeling\n",
    "import tensorflow as tf\n",
    "import numpy as np\n",
    "import itertools\n",
    "import os"
   ]
  },
  {
   "cell_type": "code",
   "execution_count": 5,
   "metadata": {},
   "outputs": [
    {
     "data": {
      "text/plain": [
       "['.DS_Store',\n",
       " 'custom_license',\n",
       " 'corpus-paper-anno',\n",
       " 'metadata.readme',\n",
       " 'json_schema.txt',\n",
       " 'noncomm_use_subset',\n",
       " 'cord19_specter_embeddings_2020-04-10',\n",
       " 'corpus-paper-annoformat',\n",
       " 'metadata.csv',\n",
       " 'biorxiv_medrxiv',\n",
       " 'COVID.DATA.LIC.AGMT.pdf',\n",
       " 'comm_use_subset']"
      ]
     },
     "execution_count": 5,
     "metadata": {},
     "output_type": "execute_result"
    }
   ],
   "source": [
    "os.listdir('/Users/patsnap/Desktop/Neo4J_and_other_codes/Coronavirus_19/CORD-19-research-challenge/')"
   ]
  },
  {
   "cell_type": "code",
   "execution_count": 7,
   "metadata": {},
   "outputs": [
    {
     "name": "stdout",
     "output_type": "stream",
     "text": [
      "(1) Metadata for papers from these sources are combined: CZI, PMC, BioRxiv/MedRxiv. (total records 29500)\n",
      "\t- CZI 1236 records\n",
      "\t- PMC 27337\n",
      "\t- bioRxiv 566\n",
      "\t- medRxiv 361\n",
      "(2) 17K of the paper records have PDFs and the hash of the PDFs are in 'sha'\n",
      "(3) For PMC sourced papers, one paper's metadata can be associated with one or more PDFs/shas under that paper - a PDF/sha correponding to the main article, and possibly additional PDF/shas corresponding to supporting materials for the article.\n",
      "(4)\t13K of the PDFs were processed with fulltext ('has_full_text'=True)\n",
      "(5) Various 'keys' are populated with the metadata:\n",
      "\t- 'pmcid': populated for all PMC paper records (27337 non null)\n",
      "\t- 'doi': populated for all BioRxiv/MedRxiv paper records and most of the other records (26357 non null)\n",
      "\t- 'WHO #Covidence': populated for all CZI records and none of the other records (1236 non null)\n",
      "\t- 'pubmed_id': populated for some of the records\n",
      "\t- 'Microsoft Academic Paper ID': populated for some of the records\n",
      "\n",
      "\n",
      "\n",
      "\n",
      "2020-03-20\n",
      "---CHANGES---\n",
      "* normalized doi, authors, title, abstract strings\n",
      "* merged redundant rows in metadata file on doi, pmcid, and pubmed_id\n",
      "* metadata sha column can now include multiple files (some PMC files have multiple associated PDFs)\n",
      "* added column in metadata file \"full_text_file\" to signal the tar.gz file in which the full text json resides\n",
      "---SUMMARY---\n",
      "total metadata rows: 44220\n",
      "custom_license: 16959 full text (new: 15533)\n",
      "noncomm_use_subset: 2353 full text (new: 385)\n",
      "comm_use_subset: 9118 full text (new: 128)\n",
      "biorxiv_medrxiv: 885 full text (new: 110)\n",
      "\n",
      "\n",
      "\n",
      "\n",
      "2020-03-27\n",
      "---CHANGES---\n",
      "* added column \"cord_uid\" (this persistent identifier is a 8-char alphanumeric string unique to each entry)\n",
      "* added column \"url\" (URL to paper landing page where available)\n",
      "* normalized publication date, dois\n",
      "* adjusted deduplication logic slightly (affects 3 papers)\n",
      "* removed some entries that correspond to indices or table of contents\n",
      "\n",
      "---SUMMARY---\n",
      "total metadata rows: 45774\n",
      "biorxiv_medrxiv: 1053 full text (new: 194, removed: 26)\n",
      "comm_use_subset: 9315 full text (new: 210, removed: 13)\n",
      "custom_license: 20657 full text (new: 4218, removed: 520)\n",
      "noncomm_use_subset: 2350 full text (new: 6, removed: 9)\n",
      "\n",
      "\n",
      "\n",
      "2020-04-03\n",
      "---CHANGES---\n",
      "* added PMC XML parses; available under metadata file column \"has_pmc_xml_parse\"\n",
      "* renamed \"has_full_text\" metadata column to \"has_pdf_parse\"\n",
      "* restructured tar.gz outputs, example new directory structure:\n",
      "|-- comm_use_subset\n",
      "   |-- pmc_json (contains all JSON derived from PMC XML parses; filenames are PMC_ID.xml.json)\n",
      "   |-- pdf_json (contains all JSON derived from PDF parses)\n",
      "\n",
      "NOTE: some papers have both PMC XML and PDF parses\n",
      "\n",
      "---SUMMARY---\n",
      "total metadata rows: 47298\n",
      "47296 CORD UIDs (new: 1524, removed: 2)\n",
      "\n",
      "biorxiv_medrxiv:\n",
      "  PDF - 1342 full text (new: 348, removed: 59)\n",
      "comm_use_subset:\n",
      "  PDF - 9365 full text (new: 70, removed: 20)\n",
      "  PMC - 8995 full text (new: 8995, removed: 0)\n",
      "custom_license:\n",
      "  PDF - 23152 full text (new: 2541, removed: 46)\n",
      "  PMC - 4773 full text (new: 4773, removed: 0)\n",
      "noncomm_use_subset:\n",
      "  PDF - 2377 full text (new: 54, removed: 27)\n",
      "  PMC - 2093 full text (new: 2093, removed: 0)\n",
      "\n",
      "\n",
      "\n",
      "2020-04-10\n",
      "\n",
      "---CHANGES---\n",
      "* minor change to metadata deduplication logic\n",
      "\n",
      "---SUMMARY---\n",
      "total metadata rows: 51078\n",
      "51045 CORD UIDs (new: 3786, removed: 38)\n",
      "\n",
      "biorxiv_medrxiv:\n",
      "  PDF - 1625 full text (new: 353, removed: 70)\n",
      "comm_use_subset:\n",
      "  PDF - 9524 full text (new: 174, removed: 15)\n",
      "  PMC - 9148 full text (new: 174, removed: 21)\n",
      "custom_license:\n",
      "  PDF - 26505 full text (new: 3647, removed: 294)\n",
      "  PMC - 7802 full text (new: 3081, removed: 52)\n",
      "noncomm_use_subset:\n",
      "  PDF - 2490 full text (new: 130, removed: 17)\n",
      "  PMC - 2217 full text (new: 128, removed: 4)\n",
      "\n",
      "---------------------------\n"
     ]
    }
   ],
   "source": [
    "with open('/Users/patsnap/Desktop/Neo4J_and_other_codes/Coronavirus_19/CORD-19-research-challenge/metadata.readme', 'r') as f:\n",
    "    data = f.read()\n",
    "    print(data)"
   ]
  },
  {
   "cell_type": "code",
   "execution_count": null,
   "metadata": {},
   "outputs": [],
   "source": [
    "#MAking CSv from Json - an example"
   ]
  },
  {
   "cell_type": "code",
   "execution_count": 8,
   "metadata": {},
   "outputs": [],
   "source": [
    "import os\n",
    "import json\n",
    "from pprint import pprint\n",
    "from copy import deepcopy\n",
    "\n",
    "import numpy as np\n",
    "import pandas as pd\n",
    "from tqdm.notebook import tqdm"
   ]
  },
  {
   "cell_type": "code",
   "execution_count": 9,
   "metadata": {},
   "outputs": [
    {
     "name": "stdout",
     "output_type": "stream",
     "text": [
      "Number of articles retrieved from biorxiv: 2490\n"
     ]
    }
   ],
   "source": [
    "biorxiv_dir = '/Users/patsnap/Desktop/Neo4J_and_other_codes/Coronavirus_19/CORD-19-research-challenge/biorxiv_medrxiv/biorxiv_medrxiv/pdf_json/'\n",
    "filenames = os.listdir(biorxiv_dir)\n",
    "print(\"Number of articles retrieved from biorxiv:\", len(filenames))"
   ]
  },
  {
   "cell_type": "code",
   "execution_count": 10,
   "metadata": {},
   "outputs": [],
   "source": [
    "all_files = []\n",
    "\n",
    "for filename in filenames:\n",
    "    filename = biorxiv_dir + filename\n",
    "    file = json.load(open(filename, 'rb'))\n",
    "    all_files.append(file)"
   ]
  },
  {
   "cell_type": "code",
   "execution_count": 11,
   "metadata": {},
   "outputs": [
    {
     "name": "stdout",
     "output_type": "stream",
     "text": [
      "Dictionary keys: dict_keys(['paper_id', 'metadata', 'abstract', 'body_text', 'bib_entries', 'ref_entries', 'back_matter'])\n"
     ]
    }
   ],
   "source": [
    "file = all_files[0]\n",
    "print(\"Dictionary keys:\", file.keys())"
   ]
  },
  {
   "cell_type": "code",
   "execution_count": 19,
   "metadata": {},
   "outputs": [],
   "source": [
    "def format_body(series):\n",
    "    texts = [(di['section'], di['text']) for di in series]\n",
    "    texts_di = {di['section']: \"\" for di in series}\n",
    "    for section, text in texts:\n",
    "        texts_di[section] += text\n",
    "    body = \"\"\n",
    "    for section, text in texts_di.items():\n",
    "        body += section\n",
    "        body += \"\\n\\n\"\n",
    "        body += text\n",
    "        body += \"\\n\\n\"\n",
    "    return body"
   ]
  },
  {
   "cell_type": "code",
   "execution_count": 23,
   "metadata": {},
   "outputs": [
    {
     "name": "stdout",
     "output_type": "stream",
     "text": [
      "{'first': 'Michael', 'middle': [], 'last': 'Liebrenz', 'suffix': '', 'affiliation': {'laboratory': '', 'institution': 'University of Bern', 'location': {'settlement': 'Bern', 'country': 'Switzerland'}}, 'email': ''}\n",
      "{'first': 'Dinesh', 'middle': [], 'last': 'Bhugra', 'suffix': '', 'affiliation': {}, 'email': ''}\n",
      "{'first': 'Anna', 'middle': [], 'last': 'Buadze', 'suffix': '', 'affiliation': {'laboratory': '', 'institution': 'University of Zurich', 'location': {'settlement': 'Zurich', 'country': 'Switzerland'}}, 'email': ''}\n",
      "{'first': 'Roman', 'middle': [], 'last': 'Schleifer', 'suffix': '', 'affiliation': {'laboratory': '', 'institution': 'University of Bern', 'location': {'settlement': 'Bern', 'country': 'Switzerland'}}, 'email': ''}\n"
     ]
    }
   ],
   "source": [
    "for di in file['metadata']['authors']:\n",
    "    print(di)"
   ]
  },
  {
   "cell_type": "code",
   "execution_count": 29,
   "metadata": {},
   "outputs": [],
   "source": [
    "def format_authors(series):\n",
    "    new_list = []\n",
    "    if with_affiliation == False:\n",
    "        for di in series:\n",
    "            new_list.append(di['first']+ \" \" + di['last'])\n",
    "        return \", \".join(new_list)"
   ]
  },
  {
   "cell_type": "code",
   "execution_count": null,
   "metadata": {},
   "outputs": [],
   "source": [
    "#https://www.kaggle.com/xhlulu/cord-19-eda-parse-json-and-generate-clean-csv#Biorxiv:-Metadata"
   ]
  },
  {
   "cell_type": "code",
   "execution_count": 34,
   "metadata": {},
   "outputs": [
    {
     "data": {
      "application/vnd.jupyter.widget-view+json": {
       "model_id": "b892e0f2fde540a8a59e01aeddd06077",
       "version_major": 2,
       "version_minor": 0
      },
      "text/plain": [
       "HBox(children=(FloatProgress(value=0.0, max=2490.0), HTML(value='')))"
      ]
     },
     "metadata": {},
     "output_type": "display_data"
    },
    {
     "name": "stdout",
     "output_type": "stream",
     "text": [
      "\n"
     ]
    }
   ],
   "source": [
    "cleaned_files = []\n",
    "\n",
    "for file in tqdm(all_files):\n",
    "    features = [\n",
    "        file['paper_id'],\n",
    "        file['metadata']['title'],\n",
    "        format_authors(file['metadata']['authors']),\n",
    "        format_body(file['abstract']),\n",
    "        format_body(file['body_text']),\n",
    "#        format_bib(file['bib_entries']),\n",
    "        file['metadata']['authors'],\n",
    "        file['bib_entries']\n",
    "    ]\n",
    "    \n",
    "    cleaned_files.append(features)"
   ]
  },
  {
   "cell_type": "code",
   "execution_count": 37,
   "metadata": {},
   "outputs": [
    {
     "data": {
      "text/html": [
       "<div>\n",
       "<style scoped>\n",
       "    .dataframe tbody tr th:only-of-type {\n",
       "        vertical-align: middle;\n",
       "    }\n",
       "\n",
       "    .dataframe tbody tr th {\n",
       "        vertical-align: top;\n",
       "    }\n",
       "\n",
       "    .dataframe thead th {\n",
       "        text-align: right;\n",
       "    }\n",
       "</style>\n",
       "<table border=\"1\" class=\"dataframe\">\n",
       "  <thead>\n",
       "    <tr style=\"text-align: right;\">\n",
       "      <th></th>\n",
       "      <th>paper_id</th>\n",
       "      <th>title</th>\n",
       "      <th>authors</th>\n",
       "      <th>abstract</th>\n",
       "      <th>text</th>\n",
       "      <th>raw_authors</th>\n",
       "      <th>raw_bibliography</th>\n",
       "    </tr>\n",
       "  </thead>\n",
       "  <tbody>\n",
       "    <tr>\n",
       "      <th>0</th>\n",
       "      <td>b2f67d533f2749807f2537f3775b39da3b186051</td>\n",
       "      <td>Caring for persons in detention suffering with...</td>\n",
       "      <td>Michael Liebrenz, Dinesh Bhugra, Anna Buadze, ...</td>\n",
       "      <td></td>\n",
       "      <td>\\n\\nThere is a disproportionate number of indi...</td>\n",
       "      <td>[{'first': 'Michael', 'middle': [], 'last': 'L...</td>\n",
       "      <td>{'BIBREF0': {'ref_id': 'b0', 'title': 'Influen...</td>\n",
       "    </tr>\n",
       "    <tr>\n",
       "      <th>1</th>\n",
       "      <td>ad98979eada6e333a276d39efdce21779d538625</td>\n",
       "      <td>Xanthine-based acyclic nucleoside phosphonates...</td>\n",
       "      <td>Ond Rej Baszczy Nski, Martin Kaiser, Michal Ce...</td>\n",
       "      <td>Abstract\\n\\nWhile noncanonic xanthine nucleoti...</td>\n",
       "      <td>Introduction\\n\\nThe concentration and ratio of...</td>\n",
       "      <td>[{'first': 'Ond', 'middle': [], 'last': 'Rej B...</td>\n",
       "      <td>{'BIBREF0': {'ref_id': 'b0', 'title': 'Absolut...</td>\n",
       "    </tr>\n",
       "    <tr>\n",
       "      <th>2</th>\n",
       "      <td>464f7d3a460eb51dbc25bd12639b22079a73f85a</td>\n",
       "      <td>Viral lncRNA: A regulatory molecule for contro...</td>\n",
       "      <td>Ziqiang Wang, Yiwan Zhao, Yaou Zhang</td>\n",
       "      <td>Abstract\\n\\nLong non-coding RNAs (lncRNAs) are...</td>\n",
       "      <td>Introduction\\n\\nViruses are important infectio...</td>\n",
       "      <td>[{'first': 'Ziqiang', 'middle': [], 'last': 'W...</td>\n",
       "      <td>{'BIBREF0': {'ref_id': 'b0', 'title': 'The cha...</td>\n",
       "    </tr>\n",
       "    <tr>\n",
       "      <th>3</th>\n",
       "      <td>c436139975d97ef929b5d8452595de40bda0c11c</td>\n",
       "      <td>Phone: (1) 301-451-9881, jbeigel@niaid.nih.gov</td>\n",
       "      <td>John Beigel, Pablo Tebas, Marie-Carmelle Elie-...</td>\n",
       "      <td>Abstract\\n\\non behalf of the IRC002 Study Team...</td>\n",
       "      <td>INTRODUCTION\\n\\nPandemic influenza remains a g...</td>\n",
       "      <td>[{'first': 'John', 'middle': ['H'], 'last': 'B...</td>\n",
       "      <td>{'BIBREF0': {'ref_id': 'b0', 'title': 'Meta-an...</td>\n",
       "    </tr>\n",
       "    <tr>\n",
       "      <th>4</th>\n",
       "      <td>634128ea7d7736750e1c3cd0a48bb37843d06dac</td>\n",
       "      <td>A Strategy To Estimate Unknown Viral Diversity...</td>\n",
       "      <td>Simon Anthony, Jonathan Epstein, Kris Murray, ...</td>\n",
       "      <td>Abstract\\n\\nThe majority of emerging zoonoses ...</td>\n",
       "      <td>Viral discovery.\\n\\nA total of 12,793 consensu...</td>\n",
       "      <td>[{'first': 'Simon', 'middle': ['J'], 'last': '...</td>\n",
       "      <td>{'BIBREF0': {'ref_id': 'b0', 'title': 'Factors...</td>\n",
       "    </tr>\n",
       "  </tbody>\n",
       "</table>\n",
       "</div>"
      ],
      "text/plain": [
       "                                   paper_id  \\\n",
       "0  b2f67d533f2749807f2537f3775b39da3b186051   \n",
       "1  ad98979eada6e333a276d39efdce21779d538625   \n",
       "2  464f7d3a460eb51dbc25bd12639b22079a73f85a   \n",
       "3  c436139975d97ef929b5d8452595de40bda0c11c   \n",
       "4  634128ea7d7736750e1c3cd0a48bb37843d06dac   \n",
       "\n",
       "                                               title  \\\n",
       "0  Caring for persons in detention suffering with...   \n",
       "1  Xanthine-based acyclic nucleoside phosphonates...   \n",
       "2  Viral lncRNA: A regulatory molecule for contro...   \n",
       "3     Phone: (1) 301-451-9881, jbeigel@niaid.nih.gov   \n",
       "4  A Strategy To Estimate Unknown Viral Diversity...   \n",
       "\n",
       "                                             authors  \\\n",
       "0  Michael Liebrenz, Dinesh Bhugra, Anna Buadze, ...   \n",
       "1  Ond Rej Baszczy Nski, Martin Kaiser, Michal Ce...   \n",
       "2               Ziqiang Wang, Yiwan Zhao, Yaou Zhang   \n",
       "3  John Beigel, Pablo Tebas, Marie-Carmelle Elie-...   \n",
       "4  Simon Anthony, Jonathan Epstein, Kris Murray, ...   \n",
       "\n",
       "                                            abstract  \\\n",
       "0                                                      \n",
       "1  Abstract\\n\\nWhile noncanonic xanthine nucleoti...   \n",
       "2  Abstract\\n\\nLong non-coding RNAs (lncRNAs) are...   \n",
       "3  Abstract\\n\\non behalf of the IRC002 Study Team...   \n",
       "4  Abstract\\n\\nThe majority of emerging zoonoses ...   \n",
       "\n",
       "                                                text  \\\n",
       "0  \\n\\nThere is a disproportionate number of indi...   \n",
       "1  Introduction\\n\\nThe concentration and ratio of...   \n",
       "2  Introduction\\n\\nViruses are important infectio...   \n",
       "3  INTRODUCTION\\n\\nPandemic influenza remains a g...   \n",
       "4  Viral discovery.\\n\\nA total of 12,793 consensu...   \n",
       "\n",
       "                                         raw_authors  \\\n",
       "0  [{'first': 'Michael', 'middle': [], 'last': 'L...   \n",
       "1  [{'first': 'Ond', 'middle': [], 'last': 'Rej B...   \n",
       "2  [{'first': 'Ziqiang', 'middle': [], 'last': 'W...   \n",
       "3  [{'first': 'John', 'middle': ['H'], 'last': 'B...   \n",
       "4  [{'first': 'Simon', 'middle': ['J'], 'last': '...   \n",
       "\n",
       "                                    raw_bibliography  \n",
       "0  {'BIBREF0': {'ref_id': 'b0', 'title': 'Influen...  \n",
       "1  {'BIBREF0': {'ref_id': 'b0', 'title': 'Absolut...  \n",
       "2  {'BIBREF0': {'ref_id': 'b0', 'title': 'The cha...  \n",
       "3  {'BIBREF0': {'ref_id': 'b0', 'title': 'Meta-an...  \n",
       "4  {'BIBREF0': {'ref_id': 'b0', 'title': 'Factors...  "
      ]
     },
     "execution_count": 37,
     "metadata": {},
     "output_type": "execute_result"
    }
   ],
   "source": [
    "col_names = [\n",
    "    'paper_id', \n",
    "    'title', \n",
    "    'authors', \n",
    "    'abstract', \n",
    "    'text', \n",
    "    'raw_authors',\n",
    "    'raw_bibliography'\n",
    "]\n",
    "\n",
    "clean_df = pd.DataFrame(cleaned_files, columns=col_names)\n",
    "clean_df.head()"
   ]
  },
  {
   "cell_type": "code",
   "execution_count": 38,
   "metadata": {},
   "outputs": [],
   "source": [
    "biorxiv_clean = pd.read_csv('/Users/patsnap/Desktop/Neo4J_and_other_codes/Coronavirus_19/CORD-19-research-challenge/biorxiv_clean.csv')\n",
    "clean_comm_use = pd.read_csv('/Users/patsnap/Desktop/Neo4J_and_other_codes/Coronavirus_19/CORD-19-research-challenge/clean_comm_use.csv')\n",
    "clean_noncomm_use =  pd.read_csv('/Users/patsnap/Desktop/Neo4J_and_other_codes/Coronavirus_19/CORD-19-research-challenge/clean_noncomm_use.csv')\n",
    "clean_pmc =  pd.read_csv('/Users/patsnap/Desktop/Neo4J_and_other_codes/Coronavirus_19/CORD-19-research-challenge/clean_pmc.csv')"
   ]
  },
  {
   "cell_type": "code",
   "execution_count": 46,
   "metadata": {},
   "outputs": [
    {
     "name": "stdout",
     "output_type": "stream",
     "text": [
      "Collecting rake-nltk\n",
      "  Downloading rake_nltk-1.0.4.tar.gz (7.6 kB)\n",
      "Requirement already satisfied: nltk in /Users/patsnap/anaconda2/lib/python3.7/site-packages (from rake-nltk) (3.4.5)\n",
      "Requirement already satisfied: six in /Users/patsnap/anaconda2/lib/python3.7/site-packages (from nltk->rake-nltk) (1.12.0)\n",
      "Building wheels for collected packages: rake-nltk\n",
      "  Building wheel for rake-nltk (setup.py) ... \u001b[?25ldone\n",
      "\u001b[?25h  Created wheel for rake-nltk: filename=rake_nltk-1.0.4-py2.py3-none-any.whl size=7821 sha256=7ee6714e9bfd6070387ae597d4aaedfb039ca02f65d0e4411b441aaabeed2337\n",
      "  Stored in directory: /Users/patsnap/Library/Caches/pip/wheels/7c/d9/8a/b8a9244fa89a07f288f9fe006aafc79d93fceb58496c29b606\n",
      "Successfully built rake-nltk\n",
      "Installing collected packages: rake-nltk\n",
      "Successfully installed rake-nltk-1.0.4\n"
     ]
    }
   ],
   "source": [
    "!pip install rake-nltk"
   ]
  },
  {
   "cell_type": "code",
   "execution_count": 50,
   "metadata": {},
   "outputs": [
    {
     "name": "stderr",
     "output_type": "stream",
     "text": [
      "/Users/patsnap/anaconda2/lib/python3.7/site-packages/gensim/corpora/dictionary.py:11: DeprecationWarning: Using or importing the ABCs from 'collections' instead of from 'collections.abc' is deprecated since Python 3.3,and in 3.9 it will stop working\n",
      "  from collections import Mapping, defaultdict\n",
      "/Users/patsnap/anaconda2/lib/python3.7/site-packages/scipy/sparse/sparsetools.py:21: DeprecationWarning: `scipy.sparse.sparsetools` is deprecated!\n",
      "scipy.sparse.sparsetools is a private module for scipy.sparse, and should not be used.\n",
      "  _deprecated()\n"
     ]
    }
   ],
   "source": [
    "from sklearn.feature_extraction.text import CountVectorizer\n",
    "from sklearn.metrics.pairwise import cosine_similarity\n",
    "from nltk.stem import WordNetLemmatizer,PorterStemmer\n",
    "from nltk.tokenize import word_tokenize\n",
    "from sklearn.cluster import DBSCAN\n",
    "from nltk.corpus import stopwords\n",
    "from spacy.matcher import Matcher \n",
    "from collections import  Counter\n",
    "import matplotlib.pyplot as plt\n",
    "from spacy.tokens import Span \n",
    "import tensorflow_hub as hub\n",
    "from rake_nltk import Rake\n",
    "import tensorflow as tf\n",
    "import pyLDAvis.gensim\n",
    "from tqdm import tqdm\n",
    "import seaborn as sns\n",
    "import networkx as nx\n",
    "import pandas as pd\n",
    "import numpy as np\n",
    "import pyLDAvis\n",
    "import gensim\n",
    "import spacy\n",
    "import os\n",
    "import gc"
   ]
  },
  {
   "cell_type": "code",
   "execution_count": 65,
   "metadata": {},
   "outputs": [],
   "source": [
    "from gensim import corpora"
   ]
  },
  {
   "cell_type": "code",
   "execution_count": 47,
   "metadata": {},
   "outputs": [],
   "source": [
    "path=\"/Users/patsnap/Desktop/Neo4J_and_other_codes/Coronavirus_19/CORD-19-research-challenge/\"\n",
    "all_sources=pd.read_csv(path+\"metadata.csv\")"
   ]
  },
  {
   "cell_type": "code",
   "execution_count": 53,
   "metadata": {},
   "outputs": [
    {
     "data": {
      "text/plain": [
       "cord_uid                       0\n",
       "sha                            0\n",
       "source_x                       0\n",
       "title                          0\n",
       "doi                            0\n",
       "pmcid                          0\n",
       "pubmed_id                      0\n",
       "license                        0\n",
       "abstract                       0\n",
       "publish_time                   0\n",
       "authors                        0\n",
       "journal                        0\n",
       "Microsoft Academic Paper ID    0\n",
       "WHO #Covidence                 0\n",
       "has_pdf_parse                  0\n",
       "has_pmc_xml_parse              0\n",
       "full_text_file                 0\n",
       "url                            0\n",
       "dtype: int64"
      ]
     },
     "execution_count": 53,
     "metadata": {},
     "output_type": "execute_result"
    }
   ],
   "source": [
    "all_sources.dropna(inplace= True)\n",
    "all_sources.isna().sum()"
   ]
  },
  {
   "cell_type": "code",
   "execution_count": 54,
   "metadata": {},
   "outputs": [
    {
     "data": {
      "image/png": "[encoded data removed]",
      "text/plain": [
       "<Figure size 432x288 with 1 Axes>"
      ]
     },
     "metadata": {
      "needs_background": "light"
     },
     "output_type": "display_data"
    }
   ],
   "source": [
    "#title length distribution\n",
    "headline_length=all_sources['title'].str.len()\n",
    "sns.distplot(headline_length)\n",
    "plt.show()"
   ]
  },
  {
   "cell_type": "code",
   "execution_count": 55,
   "metadata": {},
   "outputs": [
    {
     "data": {
      "image/png": "[encoded data removed]",
      "text/plain": [
       "<Figure size 432x288 with 1 Axes>"
      ]
     },
     "metadata": {
      "needs_background": "light"
     },
     "output_type": "display_data"
    }
   ],
   "source": [
    "#Abstract length distribution\n",
    "headline_length=all_sources['abstract'].str.len()\n",
    "plt.hist(headline_length)\n",
    "plt.show()"
   ]
  },
  {
   "cell_type": "code",
   "execution_count": 61,
   "metadata": {},
   "outputs": [
    {
     "name": "stdout",
     "output_type": "stream",
     "text": [
      "[['abstract', 'novel', 'coronavirus', 'designated', 'as', 'ncov', 'hit', 'the', 'central', 'chinese', 'city', 'of', 'wuhan', 'in', 'late', 'december', 'and', 'subsequently', 'spread', 'rapidly', 'to', 'all', 'provinces', 'of', 'china', 'and', 'multiple', 'countries', 'as', 'of', 'am', 'february', 'total', 'of', 'cases', 'have', 'been', 'confirmed', 'infection', 'of', 'ncov', 'in', 'china', 'mainland', 'and', 'cases', 'have', 'also', 'been', 'cumulatively', 'reported', 'from', 'countries', 'according', 'to', 'the', 'latest', 'data', 'total', 'of', 'deaths', 'occurred', 'in', 'china', 'mainland', 'with', 'the', 'mortality', 'reaching', 'approximately', 'at', 'present', 'there', 'is', 'no', 'vaccine', 'or', 'specific', 'drugs', 'for', 'the', 'human', 'coronavirus', 'therefore', 'it', 'is', 'critical', 'to', 'understand', 'the', 'nature', 'of', 'the', 'virus', 'and', 'its', 'clinical', 'characteristics', 'in', 'order', 'to', 'respond', 'to', 'the', 'ncov', 'outbreak', 'thus', 'the', 'present', 'study', 'briefly', 'but', 'comprehensively', 'summarizes', 'the', 'not', 'much', 'but', 'timely', 'reports', 'on', 'the', 'ncov']]\n"
     ]
    }
   ],
   "source": [
    "def sent_to_words(sentences):\n",
    "    for sentence in sentences:\n",
    "        yield(gensim.utils.simple_preprocess(str(sentence), deacc=True))  \n",
    "\n",
    "data_words = list(sent_to_words(all_sources[\"abstract\"].tolist()))\n",
    "\n",
    "print(data_words[:1])"
   ]
  },
  {
   "cell_type": "code",
   "execution_count": 62,
   "metadata": {},
   "outputs": [],
   "source": [
    "# Build the bigram and trigram models\n",
    "bigram = gensim.models.Phrases(data_words, min_count=5, threshold=20) # higher threshold fewer phrases.\n",
    "trigram = gensim.models.Phrases(bigram[data_words], threshold=20)  \n",
    "\n",
    "# Faster way to get a sentence clubbed as a trigram/bigram\n",
    "bigram_mod = gensim.models.phrases.Phraser(bigram)\n",
    "trigram_mod = gensim.models.phrases.Phraser(trigram)"
   ]
  },
  {
   "cell_type": "code",
   "execution_count": 63,
   "metadata": {},
   "outputs": [
    {
     "name": "stdout",
     "output_type": "stream",
     "text": [
      "['the', 'novel_coronavirus_ncov', 'infection', 'caused', 'pneumonia', 'we', 'retrospectively', 'analyzed', 'the', 'virus', 'presence', 'in', 'the', 'pharyngeal', 'swab', 'blood', 'and', 'the', 'anal', 'swab', 'detected', 'by', 'real_time', 'pcr', 'in', 'the', 'clinical', 'lab', 'unexpectedly', 'the', 'ncov', 'rna', 'was', 'readily', 'detected', 'in', 'the', 'blood', 'of', 'patients', 'and', 'the', 'anal', 'swabs', 'of', 'patients', 'importantly', 'all', 'of', 'the', 'patients', 'with', 'detectable', 'viral', 'rna', 'in', 'the', 'blood', 'cohort', 'progressed', 'to', 'severe', 'symptom', 'stage', 'indicating', 'strong', 'correlation', 'of', 'serum', 'viral', 'rna', 'with', 'the', 'disease', 'severity', 'value', 'meanwhile', 'of', 'the', 'patients', 'with', 'annal', 'swab', 'virus', 'positive', 'was', 'in', 'severe', 'clinical', 'stage', 'however', 'the', 'concentration', 'of', 'viral', 'rna', 'in', 'the', 'anal', 'swab', 'ct', 'value', 'was', 'higher', 'than', 'in', 'the', 'blood', 'ct', 'value', 'from', 'patient', 'suggesting', 'that', 'the', 'virus', 'might', 'replicate', 'in', 'the', 'digestive', 'tract', 'altogether', 'our', 'results', 'confirmed', 'the', 'presence', 'of', 'virus', 'rna', 'in', 'extra', 'pulmonary', 'sites']\n"
     ]
    }
   ],
   "source": [
    "# See trigram example\n",
    "print(trigram_mod[bigram_mod[data_words[1]]])"
   ]
  },
  {
   "cell_type": "code",
   "execution_count": 67,
   "metadata": {},
   "outputs": [
    {
     "name": "stdout",
     "output_type": "stream",
     "text": [
      "[[(0, 1), (1, 1), (2, 1), (3, 1), (4, 1), (5, 4), (6, 1), (7, 2), (8, 1), (9, 2), (10, 1), (11, 2), (12, 2), (13, 1), (14, 1), (15, 3), (16, 1), (17, 1), (18, 1), (19, 1), (20, 1), (21, 2), (22, 2), (23, 1), (24, 1), (25, 1), (26, 1), (27, 1), (28, 1), (29, 1), (30, 1), (31, 1), (32, 1), (33, 2), (34, 1), (35, 1), (36, 4), (37, 1), (38, 2), (39, 1), (40, 1), (41, 1), (42, 1), (43, 2), (44, 1), (45, 1), (46, 1), (47, 1), (48, 4), (49, 1), (50, 1), (51, 1), (52, 1), (53, 7), (54, 1), (55, 1), (56, 1), (57, 1), (58, 2), (59, 1), (60, 1), (61, 1), (62, 1), (63, 1), (64, 1), (65, 1), (66, 1), (67, 1), (68, 1), (69, 1), (70, 10), (71, 1), (72, 1), (73, 1), (74, 1), (75, 5), (76, 2), (77, 1), (78, 1), (79, 1), (80, 1), (81, 1)]]\n"
     ]
    }
   ],
   "source": [
    "# Create Dictionary\n",
    "id2word = corpora.Dictionary(data_words)\n",
    "\n",
    "# Create Corpus\n",
    "texts = data_words\n",
    "\n",
    "# Term Document Frequency\n",
    "corpus = [id2word.doc2bow(text) for text in texts]\n",
    "\n",
    "# View\n",
    "print(corpus[:1])"
   ]
  },
  {
   "cell_type": "code",
   "execution_count": 68,
   "metadata": {},
   "outputs": [
    {
     "data": {
      "text/plain": [
       "[[('abstract', 1),\n",
       "  ('according', 1),\n",
       "  ('all', 1),\n",
       "  ('also', 1),\n",
       "  ('am', 1),\n",
       "  ('and', 4),\n",
       "  ('approximately', 1),\n",
       "  ('as', 2),\n",
       "  ('at', 1),\n",
       "  ('been', 2),\n",
       "  ('briefly', 1),\n",
       "  ('but', 2),\n",
       "  ('cases', 2),\n",
       "  ('central', 1),\n",
       "  ('characteristics', 1),\n",
       "  ('china', 3),\n",
       "  ('chinese', 1),\n",
       "  ('city', 1),\n",
       "  ('clinical', 1),\n",
       "  ('comprehensively', 1),\n",
       "  ('confirmed', 1),\n",
       "  ('coronavirus', 2),\n",
       "  ('countries', 2),\n",
       "  ('critical', 1),\n",
       "  ('cumulatively', 1),\n",
       "  ('data', 1),\n",
       "  ('deaths', 1),\n",
       "  ('december', 1),\n",
       "  ('designated', 1),\n",
       "  ('drugs', 1),\n",
       "  ('february', 1),\n",
       "  ('for', 1),\n",
       "  ('from', 1),\n",
       "  ('have', 2),\n",
       "  ('hit', 1),\n",
       "  ('human', 1),\n",
       "  ('in', 4),\n",
       "  ('infection', 1),\n",
       "  ('is', 2),\n",
       "  ('it', 1),\n",
       "  ('its', 1),\n",
       "  ('late', 1),\n",
       "  ('latest', 1),\n",
       "  ('mainland', 2),\n",
       "  ('mortality', 1),\n",
       "  ('much', 1),\n",
       "  ('multiple', 1),\n",
       "  ('nature', 1),\n",
       "  ('ncov', 4),\n",
       "  ('no', 1),\n",
       "  ('not', 1),\n",
       "  ('novel', 1),\n",
       "  ('occurred', 1),\n",
       "  ('of', 7),\n",
       "  ('on', 1),\n",
       "  ('or', 1),\n",
       "  ('order', 1),\n",
       "  ('outbreak', 1),\n",
       "  ('present', 2),\n",
       "  ('provinces', 1),\n",
       "  ('rapidly', 1),\n",
       "  ('reaching', 1),\n",
       "  ('reported', 1),\n",
       "  ('reports', 1),\n",
       "  ('respond', 1),\n",
       "  ('specific', 1),\n",
       "  ('spread', 1),\n",
       "  ('study', 1),\n",
       "  ('subsequently', 1),\n",
       "  ('summarizes', 1),\n",
       "  ('the', 10),\n",
       "  ('there', 1),\n",
       "  ('therefore', 1),\n",
       "  ('thus', 1),\n",
       "  ('timely', 1),\n",
       "  ('to', 5),\n",
       "  ('total', 2),\n",
       "  ('understand', 1),\n",
       "  ('vaccine', 1),\n",
       "  ('virus', 1),\n",
       "  ('with', 1),\n",
       "  ('wuhan', 1)]]"
      ]
     },
     "execution_count": 68,
     "metadata": {},
     "output_type": "execute_result"
    }
   ],
   "source": [
    "[[(id2word[id], freq) for id, freq in cp] for cp in corpus[:1]]"
   ]
  },
  {
   "cell_type": "code",
   "execution_count": 70,
   "metadata": {},
   "outputs": [],
   "source": [
    "#https://www.kaggle.com/shahules/cord-tools-and-knowledge-graphs\n",
    "#https://www.kaggle.com/mobassir/mining-covid-19-scientific-papers"
   ]
  },
  {
   "cell_type": "code",
   "execution_count": null,
   "metadata": {},
   "outputs": [],
   "source": []
  },
  {
   "cell_type": "code",
   "execution_count": null,
   "metadata": {},
   "outputs": [],
   "source": []
  },
  {
   "cell_type": "code",
   "execution_count": null,
   "metadata": {},
   "outputs": [],
   "source": []
  },
  {
   "cell_type": "code",
   "execution_count": null,
   "metadata": {},
   "outputs": [],
   "source": []
  },
  {
   "cell_type": "code",
   "execution_count": null,
   "metadata": {},
   "outputs": [],
   "source": []
  },
  {
   "cell_type": "code",
   "execution_count": null,
   "metadata": {},
   "outputs": [],
   "source": []
  },
  {
   "cell_type": "code",
   "execution_count": null,
   "metadata": {},
   "outputs": [],
   "source": []
  },
  {
   "cell_type": "code",
   "execution_count": null,
   "metadata": {},
   "outputs": [],
   "source": []
  }
 ],
 "metadata": {
  "kernelspec": {
   "display_name": "Python 3",
   "language": "python",
   "name": "python3"
  },
  "language_info": {
   "codemirror_mode": {
    "name": "ipython",
    "version": 3
   },
   "file_extension": ".py",
   "mimetype": "text/x-python",
   "name": "python",
   "nbconvert_exporter": "python",
   "pygments_lexer": "ipython3",
   "version": "3.7.5"
  }
 },
 "nbformat": 4,
 "nbformat_minor": 2
}
